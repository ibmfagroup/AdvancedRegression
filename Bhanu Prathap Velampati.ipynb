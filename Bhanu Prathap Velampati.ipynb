{
 "cells": [
  {
   "cell_type": "markdown",
   "id": "2aecff87",
   "metadata": {},
   "source": [
    "# House Price Prediction - using Regularization (Ridge and Lasso regressions)"
   ]
  },
  {
   "cell_type": "markdown",
   "id": "9de77fd9",
   "metadata": {},
   "source": [
    "# Assignment- Advanced Regression\n",
    "A US-based housing company named Surprise Housing has decided to enter the Australian market. The company uses data analytics to purchase houses at a price below their actual values and flip them on at a higher price. For the same purpose, the company has collected a data set from the sale of houses in Australia. The data is provided in the CSV file below.\n",
    "\n",
    " \n",
    "\n",
    "The company is looking at prospective properties to buy to enter the market. You are required to build a regression model using regularisation in order to predict the actual value of the prospective properties and decide whether to invest in them or not.\n",
    "\n",
    " \n",
    "\n",
    "The company wants to know:\n",
    "\n",
    "    Which variables are significant in predicting the price of a house, and\n",
    "\n",
    "    How well those variables describe the price of a house.\n",
    "\n",
    " \n",
    "\n",
    "Also, determine the optimal value of lambda for ridge and lasso regression.\n",
    "\n",
    " \n",
    "\n",
    "Business Goal \n",
    "\n",
    " \n",
    "\n",
    "You are required to model the price of houses with the available independent variables. This model will then be used by the management to understand how exactly the prices vary with the variables. They can accordingly manipulate the strategy of the firm and concentrate on areas that will yield high returns. Further, the model will be a good way for management to understand the pricing dynamics of a new market."
   ]
  },
  {
   "cell_type": "code",
   "execution_count": 1,
   "id": "23303205",
   "metadata": {},
   "outputs": [],
   "source": [
    "#Importing all required libraries\n",
    "import numpy as np \n",
    "import pandas as pd \n",
    "import matplotlib.pyplot as plt\n",
    "%matplotlib inline\n",
    "import seaborn as sns\n",
    "\n",
    "from sklearn.model_selection import train_test_split\n",
    "from sklearn.preprocessing import LabelEncoder\n",
    "from sklearn import linear_model\n",
    "from sklearn.linear_model import Ridge,Lasso\n",
    "from sklearn.model_selection import GridSearchCV\n",
    "from sklearn.metrics import r2_score,mean_squared_error\n",
    "\n",
    "import warnings\n",
    "warnings.filterwarnings('ignore')"
   ]
  },
  {
   "cell_type": "code",
   "execution_count": null,
   "id": "77c0ef72",
   "metadata": {},
   "outputs": [],
   "source": []
  },
  {
   "cell_type": "code",
   "execution_count": 2,
   "id": "1886dbce",
   "metadata": {},
   "outputs": [],
   "source": [
    "#Load dataset"
   ]
  },
  {
   "cell_type": "code",
   "execution_count": 3,
   "id": "b06e2ebe",
   "metadata": {},
   "outputs": [],
   "source": [
    "housingds= pd.read_csv('train.csv')"
   ]
  },
  {
   "cell_type": "code",
   "execution_count": 4,
   "id": "14d42d79",
   "metadata": {},
   "outputs": [
    {
     "data": {
      "text/html": [
       "<div>\n",
       "<style scoped>\n",
       "    .dataframe tbody tr th:only-of-type {\n",
       "        vertical-align: middle;\n",
       "    }\n",
       "\n",
       "    .dataframe tbody tr th {\n",
       "        vertical-align: top;\n",
       "    }\n",
       "\n",
       "    .dataframe thead th {\n",
       "        text-align: right;\n",
       "    }\n",
       "</style>\n",
       "<table border=\"1\" class=\"dataframe\">\n",
       "  <thead>\n",
       "    <tr style=\"text-align: right;\">\n",
       "      <th></th>\n",
       "      <th>Id</th>\n",
       "      <th>MSSubClass</th>\n",
       "      <th>MSZoning</th>\n",
       "      <th>LotFrontage</th>\n",
       "      <th>LotArea</th>\n",
       "      <th>Street</th>\n",
       "      <th>Alley</th>\n",
       "      <th>LotShape</th>\n",
       "      <th>LandContour</th>\n",
       "      <th>Utilities</th>\n",
       "      <th>...</th>\n",
       "      <th>PoolArea</th>\n",
       "      <th>PoolQC</th>\n",
       "      <th>Fence</th>\n",
       "      <th>MiscFeature</th>\n",
       "      <th>MiscVal</th>\n",
       "      <th>MoSold</th>\n",
       "      <th>YrSold</th>\n",
       "      <th>SaleType</th>\n",
       "      <th>SaleCondition</th>\n",
       "      <th>SalePrice</th>\n",
       "    </tr>\n",
       "  </thead>\n",
       "  <tbody>\n",
       "    <tr>\n",
       "      <th>0</th>\n",
       "      <td>1</td>\n",
       "      <td>60</td>\n",
       "      <td>RL</td>\n",
       "      <td>65.0</td>\n",
       "      <td>8450</td>\n",
       "      <td>Pave</td>\n",
       "      <td>NaN</td>\n",
       "      <td>Reg</td>\n",
       "      <td>Lvl</td>\n",
       "      <td>AllPub</td>\n",
       "      <td>...</td>\n",
       "      <td>0</td>\n",
       "      <td>NaN</td>\n",
       "      <td>NaN</td>\n",
       "      <td>NaN</td>\n",
       "      <td>0</td>\n",
       "      <td>2</td>\n",
       "      <td>2008</td>\n",
       "      <td>WD</td>\n",
       "      <td>Normal</td>\n",
       "      <td>208500</td>\n",
       "    </tr>\n",
       "    <tr>\n",
       "      <th>1</th>\n",
       "      <td>2</td>\n",
       "      <td>20</td>\n",
       "      <td>RL</td>\n",
       "      <td>80.0</td>\n",
       "      <td>9600</td>\n",
       "      <td>Pave</td>\n",
       "      <td>NaN</td>\n",
       "      <td>Reg</td>\n",
       "      <td>Lvl</td>\n",
       "      <td>AllPub</td>\n",
       "      <td>...</td>\n",
       "      <td>0</td>\n",
       "      <td>NaN</td>\n",
       "      <td>NaN</td>\n",
       "      <td>NaN</td>\n",
       "      <td>0</td>\n",
       "      <td>5</td>\n",
       "      <td>2007</td>\n",
       "      <td>WD</td>\n",
       "      <td>Normal</td>\n",
       "      <td>181500</td>\n",
       "    </tr>\n",
       "    <tr>\n",
       "      <th>2</th>\n",
       "      <td>3</td>\n",
       "      <td>60</td>\n",
       "      <td>RL</td>\n",
       "      <td>68.0</td>\n",
       "      <td>11250</td>\n",
       "      <td>Pave</td>\n",
       "      <td>NaN</td>\n",
       "      <td>IR1</td>\n",
       "      <td>Lvl</td>\n",
       "      <td>AllPub</td>\n",
       "      <td>...</td>\n",
       "      <td>0</td>\n",
       "      <td>NaN</td>\n",
       "      <td>NaN</td>\n",
       "      <td>NaN</td>\n",
       "      <td>0</td>\n",
       "      <td>9</td>\n",
       "      <td>2008</td>\n",
       "      <td>WD</td>\n",
       "      <td>Normal</td>\n",
       "      <td>223500</td>\n",
       "    </tr>\n",
       "    <tr>\n",
       "      <th>3</th>\n",
       "      <td>4</td>\n",
       "      <td>70</td>\n",
       "      <td>RL</td>\n",
       "      <td>60.0</td>\n",
       "      <td>9550</td>\n",
       "      <td>Pave</td>\n",
       "      <td>NaN</td>\n",
       "      <td>IR1</td>\n",
       "      <td>Lvl</td>\n",
       "      <td>AllPub</td>\n",
       "      <td>...</td>\n",
       "      <td>0</td>\n",
       "      <td>NaN</td>\n",
       "      <td>NaN</td>\n",
       "      <td>NaN</td>\n",
       "      <td>0</td>\n",
       "      <td>2</td>\n",
       "      <td>2006</td>\n",
       "      <td>WD</td>\n",
       "      <td>Abnorml</td>\n",
       "      <td>140000</td>\n",
       "    </tr>\n",
       "    <tr>\n",
       "      <th>4</th>\n",
       "      <td>5</td>\n",
       "      <td>60</td>\n",
       "      <td>RL</td>\n",
       "      <td>84.0</td>\n",
       "      <td>14260</td>\n",
       "      <td>Pave</td>\n",
       "      <td>NaN</td>\n",
       "      <td>IR1</td>\n",
       "      <td>Lvl</td>\n",
       "      <td>AllPub</td>\n",
       "      <td>...</td>\n",
       "      <td>0</td>\n",
       "      <td>NaN</td>\n",
       "      <td>NaN</td>\n",
       "      <td>NaN</td>\n",
       "      <td>0</td>\n",
       "      <td>12</td>\n",
       "      <td>2008</td>\n",
       "      <td>WD</td>\n",
       "      <td>Normal</td>\n",
       "      <td>250000</td>\n",
       "    </tr>\n",
       "  </tbody>\n",
       "</table>\n",
       "<p>5 rows × 81 columns</p>\n",
       "</div>"
      ],
      "text/plain": [
       "   Id  MSSubClass MSZoning  LotFrontage  LotArea Street Alley LotShape  \\\n",
       "0   1          60       RL         65.0     8450   Pave   NaN      Reg   \n",
       "1   2          20       RL         80.0     9600   Pave   NaN      Reg   \n",
       "2   3          60       RL         68.0    11250   Pave   NaN      IR1   \n",
       "3   4          70       RL         60.0     9550   Pave   NaN      IR1   \n",
       "4   5          60       RL         84.0    14260   Pave   NaN      IR1   \n",
       "\n",
       "  LandContour Utilities  ... PoolArea PoolQC Fence MiscFeature MiscVal MoSold  \\\n",
       "0         Lvl    AllPub  ...        0    NaN   NaN         NaN       0      2   \n",
       "1         Lvl    AllPub  ...        0    NaN   NaN         NaN       0      5   \n",
       "2         Lvl    AllPub  ...        0    NaN   NaN         NaN       0      9   \n",
       "3         Lvl    AllPub  ...        0    NaN   NaN         NaN       0      2   \n",
       "4         Lvl    AllPub  ...        0    NaN   NaN         NaN       0     12   \n",
       "\n",
       "  YrSold  SaleType  SaleCondition  SalePrice  \n",
       "0   2008        WD         Normal     208500  \n",
       "1   2007        WD         Normal     181500  \n",
       "2   2008        WD         Normal     223500  \n",
       "3   2006        WD        Abnorml     140000  \n",
       "4   2008        WD         Normal     250000  \n",
       "\n",
       "[5 rows x 81 columns]"
      ]
     },
     "execution_count": 4,
     "metadata": {},
     "output_type": "execute_result"
    }
   ],
   "source": [
    "housingds.head()"
   ]
  },
  {
   "cell_type": "code",
   "execution_count": 5,
   "id": "44919478",
   "metadata": {},
   "outputs": [
    {
     "data": {
      "text/plain": [
       "(1460, 81)"
      ]
     },
     "execution_count": 5,
     "metadata": {},
     "output_type": "execute_result"
    }
   ],
   "source": [
    "housingds.shape"
   ]
  },
  {
   "cell_type": "code",
   "execution_count": 6,
   "id": "6035c246",
   "metadata": {},
   "outputs": [],
   "source": [
    "del(housingds['Id'])"
   ]
  },
  {
   "cell_type": "markdown",
   "id": "839e2772",
   "metadata": {},
   "source": [
    "# Understand variables and data"
   ]
  },
  {
   "cell_type": "code",
   "execution_count": 7,
   "id": "6995ca8a",
   "metadata": {},
   "outputs": [
    {
     "data": {
      "text/plain": [
       "Index(['MSSubClass', 'MSZoning', 'LotFrontage', 'LotArea', 'Street', 'Alley',\n",
       "       'LotShape', 'LandContour', 'Utilities', 'LotConfig', 'LandSlope',\n",
       "       'Neighborhood', 'Condition1', 'Condition2', 'BldgType', 'HouseStyle',\n",
       "       'OverallQual', 'OverallCond', 'YearBuilt', 'YearRemodAdd', 'RoofStyle',\n",
       "       'RoofMatl', 'Exterior1st', 'Exterior2nd', 'MasVnrType', 'MasVnrArea',\n",
       "       'ExterQual', 'ExterCond', 'Foundation', 'BsmtQual', 'BsmtCond',\n",
       "       'BsmtExposure', 'BsmtFinType1', 'BsmtFinSF1', 'BsmtFinType2',\n",
       "       'BsmtFinSF2', 'BsmtUnfSF', 'TotalBsmtSF', 'Heating', 'HeatingQC',\n",
       "       'CentralAir', 'Electrical', '1stFlrSF', '2ndFlrSF', 'LowQualFinSF',\n",
       "       'GrLivArea', 'BsmtFullBath', 'BsmtHalfBath', 'FullBath', 'HalfBath',\n",
       "       'BedroomAbvGr', 'KitchenAbvGr', 'KitchenQual', 'TotRmsAbvGrd',\n",
       "       'Functional', 'Fireplaces', 'FireplaceQu', 'GarageType', 'GarageYrBlt',\n",
       "       'GarageFinish', 'GarageCars', 'GarageArea', 'GarageQual', 'GarageCond',\n",
       "       'PavedDrive', 'WoodDeckSF', 'OpenPorchSF', 'EnclosedPorch', '3SsnPorch',\n",
       "       'ScreenPorch', 'PoolArea', 'PoolQC', 'Fence', 'MiscFeature', 'MiscVal',\n",
       "       'MoSold', 'YrSold', 'SaleType', 'SaleCondition', 'SalePrice'],\n",
       "      dtype='object')"
      ]
     },
     "execution_count": 7,
     "metadata": {},
     "output_type": "execute_result"
    }
   ],
   "source": [
    "housingds.columns"
   ]
  },
  {
   "cell_type": "code",
   "execution_count": 8,
   "id": "bcc4c84a",
   "metadata": {},
   "outputs": [],
   "source": [
    "#check Response variable or target variable available in data set columns"
   ]
  },
  {
   "cell_type": "code",
   "execution_count": 9,
   "id": "888a6eb2",
   "metadata": {},
   "outputs": [],
   "source": [
    "#housingds[[col for col in housingds.columns if \"Price\" in col]]"
   ]
  },
  {
   "cell_type": "code",
   "execution_count": 10,
   "id": "66212d4b",
   "metadata": {},
   "outputs": [],
   "source": [
    "#housingds[[col for col in housingds.columns if \"price\" in col]]\n",
    "#targvar = housingds[([col for col in housingds.columns if \"Price\" in col])]\n",
    "respcol=[col for col in housingds.columns if \"Price\" in col]"
   ]
  },
  {
   "cell_type": "code",
   "execution_count": 11,
   "id": "f6b073fd",
   "metadata": {},
   "outputs": [],
   "source": [
    "targetvar=housingds[respcol[0]]"
   ]
  },
  {
   "cell_type": "code",
   "execution_count": 12,
   "id": "27d66576",
   "metadata": {},
   "outputs": [
    {
     "data": {
      "text/plain": [
       "0       208500\n",
       "1       181500\n",
       "2       223500\n",
       "3       140000\n",
       "4       250000\n",
       "         ...  \n",
       "1455    175000\n",
       "1456    210000\n",
       "1457    266500\n",
       "1458    142125\n",
       "1459    147500\n",
       "Name: SalePrice, Length: 1460, dtype: int64"
      ]
     },
     "execution_count": 12,
     "metadata": {},
     "output_type": "execute_result"
    }
   ],
   "source": [
    "targetvar"
   ]
  },
  {
   "cell_type": "code",
   "execution_count": 13,
   "id": "1ffa2c9c",
   "metadata": {},
   "outputs": [],
   "source": [
    "del(housingds[respcol[0]])"
   ]
  },
  {
   "cell_type": "code",
   "execution_count": null,
   "id": "de76ddcd",
   "metadata": {},
   "outputs": [],
   "source": []
  },
  {
   "cell_type": "code",
   "execution_count": null,
   "id": "b97db2f9",
   "metadata": {},
   "outputs": [],
   "source": []
  },
  {
   "cell_type": "code",
   "execution_count": 14,
   "id": "a7914cbc",
   "metadata": {},
   "outputs": [
    {
     "data": {
      "text/plain": [
       "79"
      ]
     },
     "execution_count": 14,
     "metadata": {},
     "output_type": "execute_result"
    }
   ],
   "source": [
    "housingds.columns.size"
   ]
  },
  {
   "cell_type": "code",
   "execution_count": 15,
   "id": "3b262bd5",
   "metadata": {},
   "outputs": [
    {
     "data": {
      "text/plain": [
       "count      1460.000000\n",
       "mean     180921.195890\n",
       "std       79442.502883\n",
       "min       34900.000000\n",
       "25%      129975.000000\n",
       "50%      163000.000000\n",
       "75%      214000.000000\n",
       "max      755000.000000\n",
       "Name: SalePrice, dtype: float64"
      ]
     },
     "execution_count": 15,
     "metadata": {},
     "output_type": "execute_result"
    }
   ],
   "source": [
    "#Analyze more information related to response variable\n",
    "targetvar.describe()"
   ]
  },
  {
   "cell_type": "code",
   "execution_count": 16,
   "id": "374bd346",
   "metadata": {},
   "outputs": [],
   "source": [
    "#Baed on above data we can confirm that data is in wide range but to get better understanding lets check distplot"
   ]
  },
  {
   "cell_type": "code",
   "execution_count": 17,
   "id": "90b4935c",
   "metadata": {},
   "outputs": [
    {
     "data": {
      "image/png": "[encoded data removed]",
      "text/plain": [
       "<Figure size 432x288 with 1 Axes>"
      ]
     },
     "metadata": {
      "needs_background": "light"
     },
     "output_type": "display_data"
    }
   ],
   "source": [
    "sns.distplot(targetvar, color = 'b')\n",
    "plt.show()"
   ]
  },
  {
   "cell_type": "code",
   "execution_count": 18,
   "id": "9171616e",
   "metadata": {},
   "outputs": [],
   "source": [
    "#As per above graph, we can conclude that data is more spread towards right side. "
   ]
  },
  {
   "cell_type": "code",
   "execution_count": 19,
   "id": "4e0c510e",
   "metadata": {},
   "outputs": [],
   "source": [
    "#To bring back to normality, lets do data transformation by appling log data"
   ]
  },
  {
   "cell_type": "code",
   "execution_count": 20,
   "id": "58f4e4ef",
   "metadata": {},
   "outputs": [
    {
     "data": {
      "image/png": "[encoded data removed]",
      "text/plain": [
       "<Figure size 432x288 with 1 Axes>"
      ]
     },
     "metadata": {
      "needs_background": "light"
     },
     "output_type": "display_data"
    }
   ],
   "source": [
    "targetvar = np.log(targetvar)\n",
    "sns.distplot(targetvar, color = 'b')\n",
    "plt.show()"
   ]
  },
  {
   "cell_type": "code",
   "execution_count": 21,
   "id": "5cd9fc5e",
   "metadata": {},
   "outputs": [],
   "source": [
    "#as per above graph now response variable data is evenly spread. "
   ]
  },
  {
   "cell_type": "code",
   "execution_count": 22,
   "id": "2978e831",
   "metadata": {},
   "outputs": [
    {
     "data": {
      "text/plain": [
       "0"
      ]
     },
     "execution_count": 22,
     "metadata": {},
     "output_type": "execute_result"
    }
   ],
   "source": [
    "targetvar.isnull().sum()  #No null values in response variable which is good"
   ]
  },
  {
   "cell_type": "markdown",
   "id": "808f9ce1",
   "metadata": {},
   "source": [
    "# check for outliers in target variable"
   ]
  },
  {
   "cell_type": "code",
   "execution_count": 23,
   "id": "6dec8fe3",
   "metadata": {},
   "outputs": [
    {
     "data": {
      "image/png": "[encoded data removed]",
      "text/plain": [
       "<Figure size 432x288 with 1 Axes>"
      ]
     },
     "metadata": {
      "needs_background": "light"
     },
     "output_type": "display_data"
    }
   ],
   "source": [
    "# check for outliers in target variable\n",
    "plt.boxplot(targetvar)\n",
    "plt.show()"
   ]
  },
  {
   "cell_type": "code",
   "execution_count": 24,
   "id": "5b2c5063",
   "metadata": {},
   "outputs": [],
   "source": [
    "# as per above, there not outliers"
   ]
  },
  {
   "cell_type": "markdown",
   "id": "8d190488",
   "metadata": {},
   "source": [
    "# Data Cleaning"
   ]
  },
  {
   "cell_type": "code",
   "execution_count": 25,
   "id": "0617469b",
   "metadata": {},
   "outputs": [
    {
     "data": {
      "text/plain": [
       "MSSubClass         int64\n",
       "LotFrontage      float64\n",
       "LotArea            int64\n",
       "OverallQual        int64\n",
       "OverallCond        int64\n",
       "YearBuilt          int64\n",
       "YearRemodAdd       int64\n",
       "MasVnrArea       float64\n",
       "BsmtFinSF1         int64\n",
       "BsmtFinSF2         int64\n",
       "BsmtUnfSF          int64\n",
       "TotalBsmtSF        int64\n",
       "1stFlrSF           int64\n",
       "2ndFlrSF           int64\n",
       "LowQualFinSF       int64\n",
       "GrLivArea          int64\n",
       "BsmtFullBath       int64\n",
       "BsmtHalfBath       int64\n",
       "FullBath           int64\n",
       "HalfBath           int64\n",
       "BedroomAbvGr       int64\n",
       "KitchenAbvGr       int64\n",
       "TotRmsAbvGrd       int64\n",
       "Fireplaces         int64\n",
       "GarageYrBlt      float64\n",
       "GarageCars         int64\n",
       "GarageArea         int64\n",
       "WoodDeckSF         int64\n",
       "OpenPorchSF        int64\n",
       "EnclosedPorch      int64\n",
       "3SsnPorch          int64\n",
       "ScreenPorch        int64\n",
       "PoolArea           int64\n",
       "MiscVal            int64\n",
       "MoSold             int64\n",
       "YrSold             int64\n",
       "dtype: object"
      ]
     },
     "execution_count": 25,
     "metadata": {},
     "output_type": "execute_result"
    }
   ],
   "source": [
    "# From all target variables list all numerical variables and then analyze whethere those are really numerical or categorical\n",
    "numfeatures = housingds.select_dtypes(include=[np.number])\n",
    "numfeatures.dtypes"
   ]
  },
  {
   "cell_type": "code",
   "execution_count": 26,
   "id": "23396368",
   "metadata": {},
   "outputs": [
    {
     "data": {
      "text/plain": [
       "36"
      ]
     },
     "execution_count": 26,
     "metadata": {},
     "output_type": "execute_result"
    }
   ],
   "source": [
    "numfeatures.columns.size"
   ]
  },
  {
   "cell_type": "code",
   "execution_count": 27,
   "id": "c2cca32a",
   "metadata": {},
   "outputs": [
    {
     "data": {
      "text/html": [
       "<div>\n",
       "<style scoped>\n",
       "    .dataframe tbody tr th:only-of-type {\n",
       "        vertical-align: middle;\n",
       "    }\n",
       "\n",
       "    .dataframe tbody tr th {\n",
       "        vertical-align: top;\n",
       "    }\n",
       "\n",
       "    .dataframe thead th {\n",
       "        text-align: right;\n",
       "    }\n",
       "</style>\n",
       "<table border=\"1\" class=\"dataframe\">\n",
       "  <thead>\n",
       "    <tr style=\"text-align: right;\">\n",
       "      <th></th>\n",
       "      <th>MSSubClass</th>\n",
       "      <th>LotFrontage</th>\n",
       "      <th>LotArea</th>\n",
       "      <th>OverallQual</th>\n",
       "      <th>OverallCond</th>\n",
       "      <th>YearBuilt</th>\n",
       "      <th>YearRemodAdd</th>\n",
       "      <th>MasVnrArea</th>\n",
       "      <th>BsmtFinSF1</th>\n",
       "      <th>BsmtFinSF2</th>\n",
       "      <th>...</th>\n",
       "      <th>GarageArea</th>\n",
       "      <th>WoodDeckSF</th>\n",
       "      <th>OpenPorchSF</th>\n",
       "      <th>EnclosedPorch</th>\n",
       "      <th>3SsnPorch</th>\n",
       "      <th>ScreenPorch</th>\n",
       "      <th>PoolArea</th>\n",
       "      <th>MiscVal</th>\n",
       "      <th>MoSold</th>\n",
       "      <th>YrSold</th>\n",
       "    </tr>\n",
       "  </thead>\n",
       "  <tbody>\n",
       "    <tr>\n",
       "      <th>0</th>\n",
       "      <td>60</td>\n",
       "      <td>65.0</td>\n",
       "      <td>8450</td>\n",
       "      <td>7</td>\n",
       "      <td>5</td>\n",
       "      <td>2003</td>\n",
       "      <td>2003</td>\n",
       "      <td>196.0</td>\n",
       "      <td>706</td>\n",
       "      <td>0</td>\n",
       "      <td>...</td>\n",
       "      <td>548</td>\n",
       "      <td>0</td>\n",
       "      <td>61</td>\n",
       "      <td>0</td>\n",
       "      <td>0</td>\n",
       "      <td>0</td>\n",
       "      <td>0</td>\n",
       "      <td>0</td>\n",
       "      <td>2</td>\n",
       "      <td>2008</td>\n",
       "    </tr>\n",
       "    <tr>\n",
       "      <th>1</th>\n",
       "      <td>20</td>\n",
       "      <td>80.0</td>\n",
       "      <td>9600</td>\n",
       "      <td>6</td>\n",
       "      <td>8</td>\n",
       "      <td>1976</td>\n",
       "      <td>1976</td>\n",
       "      <td>0.0</td>\n",
       "      <td>978</td>\n",
       "      <td>0</td>\n",
       "      <td>...</td>\n",
       "      <td>460</td>\n",
       "      <td>298</td>\n",
       "      <td>0</td>\n",
       "      <td>0</td>\n",
       "      <td>0</td>\n",
       "      <td>0</td>\n",
       "      <td>0</td>\n",
       "      <td>0</td>\n",
       "      <td>5</td>\n",
       "      <td>2007</td>\n",
       "    </tr>\n",
       "    <tr>\n",
       "      <th>2</th>\n",
       "      <td>60</td>\n",
       "      <td>68.0</td>\n",
       "      <td>11250</td>\n",
       "      <td>7</td>\n",
       "      <td>5</td>\n",
       "      <td>2001</td>\n",
       "      <td>2002</td>\n",
       "      <td>162.0</td>\n",
       "      <td>486</td>\n",
       "      <td>0</td>\n",
       "      <td>...</td>\n",
       "      <td>608</td>\n",
       "      <td>0</td>\n",
       "      <td>42</td>\n",
       "      <td>0</td>\n",
       "      <td>0</td>\n",
       "      <td>0</td>\n",
       "      <td>0</td>\n",
       "      <td>0</td>\n",
       "      <td>9</td>\n",
       "      <td>2008</td>\n",
       "    </tr>\n",
       "    <tr>\n",
       "      <th>3</th>\n",
       "      <td>70</td>\n",
       "      <td>60.0</td>\n",
       "      <td>9550</td>\n",
       "      <td>7</td>\n",
       "      <td>5</td>\n",
       "      <td>1915</td>\n",
       "      <td>1970</td>\n",
       "      <td>0.0</td>\n",
       "      <td>216</td>\n",
       "      <td>0</td>\n",
       "      <td>...</td>\n",
       "      <td>642</td>\n",
       "      <td>0</td>\n",
       "      <td>35</td>\n",
       "      <td>272</td>\n",
       "      <td>0</td>\n",
       "      <td>0</td>\n",
       "      <td>0</td>\n",
       "      <td>0</td>\n",
       "      <td>2</td>\n",
       "      <td>2006</td>\n",
       "    </tr>\n",
       "    <tr>\n",
       "      <th>4</th>\n",
       "      <td>60</td>\n",
       "      <td>84.0</td>\n",
       "      <td>14260</td>\n",
       "      <td>8</td>\n",
       "      <td>5</td>\n",
       "      <td>2000</td>\n",
       "      <td>2000</td>\n",
       "      <td>350.0</td>\n",
       "      <td>655</td>\n",
       "      <td>0</td>\n",
       "      <td>...</td>\n",
       "      <td>836</td>\n",
       "      <td>192</td>\n",
       "      <td>84</td>\n",
       "      <td>0</td>\n",
       "      <td>0</td>\n",
       "      <td>0</td>\n",
       "      <td>0</td>\n",
       "      <td>0</td>\n",
       "      <td>12</td>\n",
       "      <td>2008</td>\n",
       "    </tr>\n",
       "  </tbody>\n",
       "</table>\n",
       "<p>5 rows × 36 columns</p>\n",
       "</div>"
      ],
      "text/plain": [
       "   MSSubClass  LotFrontage  LotArea  OverallQual  OverallCond  YearBuilt  \\\n",
       "0          60         65.0     8450            7            5       2003   \n",
       "1          20         80.0     9600            6            8       1976   \n",
       "2          60         68.0    11250            7            5       2001   \n",
       "3          70         60.0     9550            7            5       1915   \n",
       "4          60         84.0    14260            8            5       2000   \n",
       "\n",
       "   YearRemodAdd  MasVnrArea  BsmtFinSF1  BsmtFinSF2  ...  GarageArea  \\\n",
       "0          2003       196.0         706           0  ...         548   \n",
       "1          1976         0.0         978           0  ...         460   \n",
       "2          2002       162.0         486           0  ...         608   \n",
       "3          1970         0.0         216           0  ...         642   \n",
       "4          2000       350.0         655           0  ...         836   \n",
       "\n",
       "   WoodDeckSF  OpenPorchSF  EnclosedPorch  3SsnPorch  ScreenPorch  PoolArea  \\\n",
       "0           0           61              0          0            0         0   \n",
       "1         298            0              0          0            0         0   \n",
       "2           0           42              0          0            0         0   \n",
       "3           0           35            272          0            0         0   \n",
       "4         192           84              0          0            0         0   \n",
       "\n",
       "   MiscVal  MoSold  YrSold  \n",
       "0        0       2    2008  \n",
       "1        0       5    2007  \n",
       "2        0       9    2008  \n",
       "3        0       2    2006  \n",
       "4        0      12    2008  \n",
       "\n",
       "[5 rows x 36 columns]"
      ]
     },
     "execution_count": 27,
     "metadata": {},
     "output_type": "execute_result"
    }
   ],
   "source": [
    "numfeatures.head(5)"
   ]
  },
  {
   "cell_type": "code",
   "execution_count": 28,
   "id": "1ec2d911",
   "metadata": {},
   "outputs": [],
   "source": [
    "#Filter out all categorical variables from numerical list"
   ]
  },
  {
   "cell_type": "code",
   "execution_count": 29,
   "id": "654835e7",
   "metadata": {},
   "outputs": [],
   "source": [
    "remcatfromnum = [col for col in numfeatures.columns if numfeatures[col].value_counts().size < 20]"
   ]
  },
  {
   "cell_type": "code",
   "execution_count": 30,
   "id": "82c3de2a",
   "metadata": {},
   "outputs": [],
   "source": [
    "for col1 in remcatfromnum:\n",
    "    del(numfeatures[col1])"
   ]
  },
  {
   "cell_type": "code",
   "execution_count": 31,
   "id": "71ef1128",
   "metadata": {},
   "outputs": [
    {
     "data": {
      "text/plain": [
       "21"
      ]
     },
     "execution_count": 31,
     "metadata": {},
     "output_type": "execute_result"
    }
   ],
   "source": [
    "numfeatures.columns.size"
   ]
  },
  {
   "cell_type": "code",
   "execution_count": 32,
   "id": "9c29f9f3",
   "metadata": {},
   "outputs": [
    {
     "data": {
      "text/plain": [
       "Index(['LotFrontage', 'LotArea', 'YearBuilt', 'YearRemodAdd', 'MasVnrArea',\n",
       "       'BsmtFinSF1', 'BsmtFinSF2', 'BsmtUnfSF', 'TotalBsmtSF', '1stFlrSF',\n",
       "       '2ndFlrSF', 'LowQualFinSF', 'GrLivArea', 'GarageYrBlt', 'GarageArea',\n",
       "       'WoodDeckSF', 'OpenPorchSF', 'EnclosedPorch', '3SsnPorch',\n",
       "       'ScreenPorch', 'MiscVal'],\n",
       "      dtype='object')"
      ]
     },
     "execution_count": 32,
     "metadata": {},
     "output_type": "execute_result"
    }
   ],
   "source": [
    "#After deleting above so called categorical variables List remaining numerical features\n",
    "numfeatures.columns"
   ]
  },
  {
   "cell_type": "code",
   "execution_count": 33,
   "id": "0a0fbb1c",
   "metadata": {},
   "outputs": [
    {
     "data": {
      "text/html": [
       "<div>\n",
       "<style scoped>\n",
       "    .dataframe tbody tr th:only-of-type {\n",
       "        vertical-align: middle;\n",
       "    }\n",
       "\n",
       "    .dataframe tbody tr th {\n",
       "        vertical-align: top;\n",
       "    }\n",
       "\n",
       "    .dataframe thead th {\n",
       "        text-align: right;\n",
       "    }\n",
       "</style>\n",
       "<table border=\"1\" class=\"dataframe\">\n",
       "  <thead>\n",
       "    <tr style=\"text-align: right;\">\n",
       "      <th></th>\n",
       "      <th>LotFrontage</th>\n",
       "      <th>LotArea</th>\n",
       "      <th>YearBuilt</th>\n",
       "      <th>YearRemodAdd</th>\n",
       "      <th>MasVnrArea</th>\n",
       "      <th>BsmtFinSF1</th>\n",
       "      <th>BsmtFinSF2</th>\n",
       "      <th>BsmtUnfSF</th>\n",
       "      <th>TotalBsmtSF</th>\n",
       "      <th>1stFlrSF</th>\n",
       "      <th>...</th>\n",
       "      <th>LowQualFinSF</th>\n",
       "      <th>GrLivArea</th>\n",
       "      <th>GarageYrBlt</th>\n",
       "      <th>GarageArea</th>\n",
       "      <th>WoodDeckSF</th>\n",
       "      <th>OpenPorchSF</th>\n",
       "      <th>EnclosedPorch</th>\n",
       "      <th>3SsnPorch</th>\n",
       "      <th>ScreenPorch</th>\n",
       "      <th>MiscVal</th>\n",
       "    </tr>\n",
       "  </thead>\n",
       "  <tbody>\n",
       "    <tr>\n",
       "      <th>count</th>\n",
       "      <td>1201.000000</td>\n",
       "      <td>1460.000000</td>\n",
       "      <td>1460.000000</td>\n",
       "      <td>1460.000000</td>\n",
       "      <td>1452.000000</td>\n",
       "      <td>1460.000000</td>\n",
       "      <td>1460.000000</td>\n",
       "      <td>1460.000000</td>\n",
       "      <td>1460.000000</td>\n",
       "      <td>1460.000000</td>\n",
       "      <td>...</td>\n",
       "      <td>1460.000000</td>\n",
       "      <td>1460.000000</td>\n",
       "      <td>1379.000000</td>\n",
       "      <td>1460.000000</td>\n",
       "      <td>1460.000000</td>\n",
       "      <td>1460.000000</td>\n",
       "      <td>1460.000000</td>\n",
       "      <td>1460.000000</td>\n",
       "      <td>1460.000000</td>\n",
       "      <td>1460.000000</td>\n",
       "    </tr>\n",
       "    <tr>\n",
       "      <th>mean</th>\n",
       "      <td>70.049958</td>\n",
       "      <td>10516.828082</td>\n",
       "      <td>1971.267808</td>\n",
       "      <td>1984.865753</td>\n",
       "      <td>103.685262</td>\n",
       "      <td>443.639726</td>\n",
       "      <td>46.549315</td>\n",
       "      <td>567.240411</td>\n",
       "      <td>1057.429452</td>\n",
       "      <td>1162.626712</td>\n",
       "      <td>...</td>\n",
       "      <td>5.844521</td>\n",
       "      <td>1515.463699</td>\n",
       "      <td>1978.506164</td>\n",
       "      <td>472.980137</td>\n",
       "      <td>94.244521</td>\n",
       "      <td>46.660274</td>\n",
       "      <td>21.954110</td>\n",
       "      <td>3.409589</td>\n",
       "      <td>15.060959</td>\n",
       "      <td>43.489041</td>\n",
       "    </tr>\n",
       "    <tr>\n",
       "      <th>std</th>\n",
       "      <td>24.284752</td>\n",
       "      <td>9981.264932</td>\n",
       "      <td>30.202904</td>\n",
       "      <td>20.645407</td>\n",
       "      <td>181.066207</td>\n",
       "      <td>456.098091</td>\n",
       "      <td>161.319273</td>\n",
       "      <td>441.866955</td>\n",
       "      <td>438.705324</td>\n",
       "      <td>386.587738</td>\n",
       "      <td>...</td>\n",
       "      <td>48.623081</td>\n",
       "      <td>525.480383</td>\n",
       "      <td>24.689725</td>\n",
       "      <td>213.804841</td>\n",
       "      <td>125.338794</td>\n",
       "      <td>66.256028</td>\n",
       "      <td>61.119149</td>\n",
       "      <td>29.317331</td>\n",
       "      <td>55.757415</td>\n",
       "      <td>496.123024</td>\n",
       "    </tr>\n",
       "    <tr>\n",
       "      <th>min</th>\n",
       "      <td>21.000000</td>\n",
       "      <td>1300.000000</td>\n",
       "      <td>1872.000000</td>\n",
       "      <td>1950.000000</td>\n",
       "      <td>0.000000</td>\n",
       "      <td>0.000000</td>\n",
       "      <td>0.000000</td>\n",
       "      <td>0.000000</td>\n",
       "      <td>0.000000</td>\n",
       "      <td>334.000000</td>\n",
       "      <td>...</td>\n",
       "      <td>0.000000</td>\n",
       "      <td>334.000000</td>\n",
       "      <td>1900.000000</td>\n",
       "      <td>0.000000</td>\n",
       "      <td>0.000000</td>\n",
       "      <td>0.000000</td>\n",
       "      <td>0.000000</td>\n",
       "      <td>0.000000</td>\n",
       "      <td>0.000000</td>\n",
       "      <td>0.000000</td>\n",
       "    </tr>\n",
       "    <tr>\n",
       "      <th>25%</th>\n",
       "      <td>59.000000</td>\n",
       "      <td>7553.500000</td>\n",
       "      <td>1954.000000</td>\n",
       "      <td>1967.000000</td>\n",
       "      <td>0.000000</td>\n",
       "      <td>0.000000</td>\n",
       "      <td>0.000000</td>\n",
       "      <td>223.000000</td>\n",
       "      <td>795.750000</td>\n",
       "      <td>882.000000</td>\n",
       "      <td>...</td>\n",
       "      <td>0.000000</td>\n",
       "      <td>1129.500000</td>\n",
       "      <td>1961.000000</td>\n",
       "      <td>334.500000</td>\n",
       "      <td>0.000000</td>\n",
       "      <td>0.000000</td>\n",
       "      <td>0.000000</td>\n",
       "      <td>0.000000</td>\n",
       "      <td>0.000000</td>\n",
       "      <td>0.000000</td>\n",
       "    </tr>\n",
       "    <tr>\n",
       "      <th>50%</th>\n",
       "      <td>69.000000</td>\n",
       "      <td>9478.500000</td>\n",
       "      <td>1973.000000</td>\n",
       "      <td>1994.000000</td>\n",
       "      <td>0.000000</td>\n",
       "      <td>383.500000</td>\n",
       "      <td>0.000000</td>\n",
       "      <td>477.500000</td>\n",
       "      <td>991.500000</td>\n",
       "      <td>1087.000000</td>\n",
       "      <td>...</td>\n",
       "      <td>0.000000</td>\n",
       "      <td>1464.000000</td>\n",
       "      <td>1980.000000</td>\n",
       "      <td>480.000000</td>\n",
       "      <td>0.000000</td>\n",
       "      <td>25.000000</td>\n",
       "      <td>0.000000</td>\n",
       "      <td>0.000000</td>\n",
       "      <td>0.000000</td>\n",
       "      <td>0.000000</td>\n",
       "    </tr>\n",
       "    <tr>\n",
       "      <th>75%</th>\n",
       "      <td>80.000000</td>\n",
       "      <td>11601.500000</td>\n",
       "      <td>2000.000000</td>\n",
       "      <td>2004.000000</td>\n",
       "      <td>166.000000</td>\n",
       "      <td>712.250000</td>\n",
       "      <td>0.000000</td>\n",
       "      <td>808.000000</td>\n",
       "      <td>1298.250000</td>\n",
       "      <td>1391.250000</td>\n",
       "      <td>...</td>\n",
       "      <td>0.000000</td>\n",
       "      <td>1776.750000</td>\n",
       "      <td>2002.000000</td>\n",
       "      <td>576.000000</td>\n",
       "      <td>168.000000</td>\n",
       "      <td>68.000000</td>\n",
       "      <td>0.000000</td>\n",
       "      <td>0.000000</td>\n",
       "      <td>0.000000</td>\n",
       "      <td>0.000000</td>\n",
       "    </tr>\n",
       "    <tr>\n",
       "      <th>max</th>\n",
       "      <td>313.000000</td>\n",
       "      <td>215245.000000</td>\n",
       "      <td>2010.000000</td>\n",
       "      <td>2010.000000</td>\n",
       "      <td>1600.000000</td>\n",
       "      <td>5644.000000</td>\n",
       "      <td>1474.000000</td>\n",
       "      <td>2336.000000</td>\n",
       "      <td>6110.000000</td>\n",
       "      <td>4692.000000</td>\n",
       "      <td>...</td>\n",
       "      <td>572.000000</td>\n",
       "      <td>5642.000000</td>\n",
       "      <td>2010.000000</td>\n",
       "      <td>1418.000000</td>\n",
       "      <td>857.000000</td>\n",
       "      <td>547.000000</td>\n",
       "      <td>552.000000</td>\n",
       "      <td>508.000000</td>\n",
       "      <td>480.000000</td>\n",
       "      <td>15500.000000</td>\n",
       "    </tr>\n",
       "  </tbody>\n",
       "</table>\n",
       "<p>8 rows × 21 columns</p>\n",
       "</div>"
      ],
      "text/plain": [
       "       LotFrontage        LotArea    YearBuilt  YearRemodAdd   MasVnrArea  \\\n",
       "count  1201.000000    1460.000000  1460.000000   1460.000000  1452.000000   \n",
       "mean     70.049958   10516.828082  1971.267808   1984.865753   103.685262   \n",
       "std      24.284752    9981.264932    30.202904     20.645407   181.066207   \n",
       "min      21.000000    1300.000000  1872.000000   1950.000000     0.000000   \n",
       "25%      59.000000    7553.500000  1954.000000   1967.000000     0.000000   \n",
       "50%      69.000000    9478.500000  1973.000000   1994.000000     0.000000   \n",
       "75%      80.000000   11601.500000  2000.000000   2004.000000   166.000000   \n",
       "max     313.000000  215245.000000  2010.000000   2010.000000  1600.000000   \n",
       "\n",
       "        BsmtFinSF1   BsmtFinSF2    BsmtUnfSF  TotalBsmtSF     1stFlrSF  ...  \\\n",
       "count  1460.000000  1460.000000  1460.000000  1460.000000  1460.000000  ...   \n",
       "mean    443.639726    46.549315   567.240411  1057.429452  1162.626712  ...   \n",
       "std     456.098091   161.319273   441.866955   438.705324   386.587738  ...   \n",
       "min       0.000000     0.000000     0.000000     0.000000   334.000000  ...   \n",
       "25%       0.000000     0.000000   223.000000   795.750000   882.000000  ...   \n",
       "50%     383.500000     0.000000   477.500000   991.500000  1087.000000  ...   \n",
       "75%     712.250000     0.000000   808.000000  1298.250000  1391.250000  ...   \n",
       "max    5644.000000  1474.000000  2336.000000  6110.000000  4692.000000  ...   \n",
       "\n",
       "       LowQualFinSF    GrLivArea  GarageYrBlt   GarageArea   WoodDeckSF  \\\n",
       "count   1460.000000  1460.000000  1379.000000  1460.000000  1460.000000   \n",
       "mean       5.844521  1515.463699  1978.506164   472.980137    94.244521   \n",
       "std       48.623081   525.480383    24.689725   213.804841   125.338794   \n",
       "min        0.000000   334.000000  1900.000000     0.000000     0.000000   \n",
       "25%        0.000000  1129.500000  1961.000000   334.500000     0.000000   \n",
       "50%        0.000000  1464.000000  1980.000000   480.000000     0.000000   \n",
       "75%        0.000000  1776.750000  2002.000000   576.000000   168.000000   \n",
       "max      572.000000  5642.000000  2010.000000  1418.000000   857.000000   \n",
       "\n",
       "       OpenPorchSF  EnclosedPorch    3SsnPorch  ScreenPorch       MiscVal  \n",
       "count  1460.000000    1460.000000  1460.000000  1460.000000   1460.000000  \n",
       "mean     46.660274      21.954110     3.409589    15.060959     43.489041  \n",
       "std      66.256028      61.119149    29.317331    55.757415    496.123024  \n",
       "min       0.000000       0.000000     0.000000     0.000000      0.000000  \n",
       "25%       0.000000       0.000000     0.000000     0.000000      0.000000  \n",
       "50%      25.000000       0.000000     0.000000     0.000000      0.000000  \n",
       "75%      68.000000       0.000000     0.000000     0.000000      0.000000  \n",
       "max     547.000000     552.000000   508.000000   480.000000  15500.000000  \n",
       "\n",
       "[8 rows x 21 columns]"
      ]
     },
     "execution_count": 33,
     "metadata": {},
     "output_type": "execute_result"
    }
   ],
   "source": [
    "numfeatures.describe()"
   ]
  },
  {
   "cell_type": "markdown",
   "id": "6d956743",
   "metadata": {},
   "source": [
    "# Handle outliers in numeric predictor variables"
   ]
  },
  {
   "cell_type": "code",
   "execution_count": 34,
   "id": "93394fbc",
   "metadata": {},
   "outputs": [],
   "source": [
    "#Q1 = numfeatures[numfeatures.columns].quantile(0.05)\n",
    "#Q3 = numfeatures[numfeatures.columns].quantile(0.95)"
   ]
  },
  {
   "cell_type": "code",
   "execution_count": 35,
   "id": "d100eef6",
   "metadata": {},
   "outputs": [],
   "source": [
    "for i in numfeatures.columns:\n",
    "    Q1 = numfeatures[i].quantile(0.25)\n",
    "    Q2 = numfeatures[i].quantile(0.75)\n",
    "    numfeatures[i] = np.where(numfeatures[i] < Q1, Q1, numfeatures[i])\n",
    "    numfeatures[i] = np.where(numfeatures[i] > Q2, Q2, numfeatures[i])\n",
    "    \n",
    "#Q1 = numfeatures['LotArea'].quantile(0.05)\n",
    "#Q2 = numfeatures['LotArea'].quantile(0.95)"
   ]
  },
  {
   "cell_type": "code",
   "execution_count": 36,
   "id": "7d7f5068",
   "metadata": {},
   "outputs": [],
   "source": [
    "#numfeatures['LotArea'] = np.where(numfeatures['LotArea'] < Q1, Q1, numfeatures['LotArea'])\n",
    "#numfeatures['LotArea'] = np.where(numfeatures['LotArea'] > Q2, Q2, numfeatures['LotArea'])"
   ]
  },
  {
   "cell_type": "code",
   "execution_count": null,
   "id": "f05943a0",
   "metadata": {},
   "outputs": [],
   "source": []
  },
  {
   "cell_type": "code",
   "execution_count": 37,
   "id": "8ebc656c",
   "metadata": {},
   "outputs": [],
   "source": [
    "# Displaying of all numerical features\n",
    "#numeric_features = train.select_dtypes(include=[np.number])\n",
    "#numeric_features.dtypes"
   ]
  },
  {
   "cell_type": "code",
   "execution_count": 38,
   "id": "82c1ca90",
   "metadata": {},
   "outputs": [
    {
     "data": {
      "text/plain": [
       "43"
      ]
     },
     "execution_count": 38,
     "metadata": {},
     "output_type": "execute_result"
    }
   ],
   "source": [
    "catfeatures=housingds.loc[:,housingds.dtypes==np.object]\n",
    "catfeatures.dtypes\n",
    "catfeatures.columns.size"
   ]
  },
  {
   "cell_type": "code",
   "execution_count": 39,
   "id": "8894bf3c",
   "metadata": {},
   "outputs": [],
   "source": [
    "#Join both categorical varibles and removed categorical variables from numeric"
   ]
  },
  {
   "cell_type": "code",
   "execution_count": 40,
   "id": "594f08b0",
   "metadata": {},
   "outputs": [],
   "source": [
    "Catvariables = pd.concat([catfeatures, housingds[list(remcatfromnum)]], axis=1, join='inner')"
   ]
  },
  {
   "cell_type": "code",
   "execution_count": 41,
   "id": "d5a5ed7f",
   "metadata": {},
   "outputs": [
    {
     "data": {
      "text/plain": [
       "58"
      ]
     },
     "execution_count": 41,
     "metadata": {},
     "output_type": "execute_result"
    }
   ],
   "source": [
    "Catvariables.columns.size"
   ]
  },
  {
   "cell_type": "code",
   "execution_count": 42,
   "id": "ec01fa47",
   "metadata": {},
   "outputs": [
    {
     "data": {
      "text/plain": [
       "Index(['MSZoning', 'Street', 'Alley', 'LotShape', 'LandContour', 'Utilities',\n",
       "       'LotConfig', 'LandSlope', 'Neighborhood', 'Condition1', 'Condition2',\n",
       "       'BldgType', 'HouseStyle', 'RoofStyle', 'RoofMatl', 'Exterior1st',\n",
       "       'Exterior2nd', 'MasVnrType', 'ExterQual', 'ExterCond', 'Foundation',\n",
       "       'BsmtQual', 'BsmtCond', 'BsmtExposure', 'BsmtFinType1', 'BsmtFinType2',\n",
       "       'Heating', 'HeatingQC', 'CentralAir', 'Electrical', 'KitchenQual',\n",
       "       'Functional', 'FireplaceQu', 'GarageType', 'GarageFinish', 'GarageQual',\n",
       "       'GarageCond', 'PavedDrive', 'PoolQC', 'Fence', 'MiscFeature',\n",
       "       'SaleType', 'SaleCondition', 'MSSubClass', 'OverallQual', 'OverallCond',\n",
       "       'BsmtFullBath', 'BsmtHalfBath', 'FullBath', 'HalfBath', 'BedroomAbvGr',\n",
       "       'KitchenAbvGr', 'TotRmsAbvGrd', 'Fireplaces', 'GarageCars', 'PoolArea',\n",
       "       'MoSold', 'YrSold'],\n",
       "      dtype='object')"
      ]
     },
     "execution_count": 42,
     "metadata": {},
     "output_type": "execute_result"
    }
   ],
   "source": [
    "Catvariables.columns"
   ]
  },
  {
   "cell_type": "code",
   "execution_count": 43,
   "id": "7439311f",
   "metadata": {},
   "outputs": [],
   "source": [
    "#Check for any null values in numerical dataset"
   ]
  },
  {
   "cell_type": "code",
   "execution_count": 44,
   "id": "a881de7d",
   "metadata": {},
   "outputs": [
    {
     "data": {
      "text/plain": [
       "LotFrontage       True\n",
       "LotArea          False\n",
       "YearBuilt        False\n",
       "YearRemodAdd     False\n",
       "MasVnrArea        True\n",
       "BsmtFinSF1       False\n",
       "BsmtFinSF2       False\n",
       "BsmtUnfSF        False\n",
       "TotalBsmtSF      False\n",
       "1stFlrSF         False\n",
       "2ndFlrSF         False\n",
       "LowQualFinSF     False\n",
       "GrLivArea        False\n",
       "GarageYrBlt       True\n",
       "GarageArea       False\n",
       "WoodDeckSF       False\n",
       "OpenPorchSF      False\n",
       "EnclosedPorch    False\n",
       "3SsnPorch        False\n",
       "ScreenPorch      False\n",
       "MiscVal          False\n",
       "dtype: bool"
      ]
     },
     "execution_count": 44,
     "metadata": {},
     "output_type": "execute_result"
    }
   ],
   "source": [
    "numfeatures.isnull().sum() > 0"
   ]
  },
  {
   "cell_type": "code",
   "execution_count": 45,
   "id": "9e539a35",
   "metadata": {},
   "outputs": [
    {
     "data": {
      "text/plain": [
       "LotFrontage      17.74\n",
       "LotArea           0.00\n",
       "YearBuilt         0.00\n",
       "YearRemodAdd      0.00\n",
       "MasVnrArea        0.55\n",
       "BsmtFinSF1        0.00\n",
       "BsmtFinSF2        0.00\n",
       "BsmtUnfSF         0.00\n",
       "TotalBsmtSF       0.00\n",
       "1stFlrSF          0.00\n",
       "2ndFlrSF          0.00\n",
       "LowQualFinSF      0.00\n",
       "GrLivArea         0.00\n",
       "GarageYrBlt       5.55\n",
       "GarageArea        0.00\n",
       "WoodDeckSF        0.00\n",
       "OpenPorchSF       0.00\n",
       "EnclosedPorch     0.00\n",
       "3SsnPorch         0.00\n",
       "ScreenPorch       0.00\n",
       "MiscVal           0.00\n",
       "dtype: float64"
      ]
     },
     "execution_count": 45,
     "metadata": {},
     "output_type": "execute_result"
    }
   ],
   "source": [
    "#Checking missing values in percentage. \n",
    "#numfeatures.LotFrontage.isnull().size\n",
    "round(100*(numfeatures.isnull().sum()/len(numfeatures.index)), 2)"
   ]
  },
  {
   "cell_type": "code",
   "execution_count": 46,
   "id": "12671126",
   "metadata": {},
   "outputs": [
    {
     "data": {
      "text/plain": [
       "1460"
      ]
     },
     "execution_count": 46,
     "metadata": {},
     "output_type": "execute_result"
    }
   ],
   "source": [
    "numfeatures.LotFrontage.isnull().size"
   ]
  },
  {
   "cell_type": "code",
   "execution_count": 47,
   "id": "b2b2da54",
   "metadata": {},
   "outputs": [],
   "source": [
    "#In numfeatures.LotFrontage 1460 null values exists, which is  reasonable big number. Lets replace with 0 values"
   ]
  },
  {
   "cell_type": "code",
   "execution_count": 48,
   "id": "9824de95",
   "metadata": {},
   "outputs": [
    {
     "data": {
      "text/plain": [
       "80.0    353\n",
       "59.0    304\n",
       "60.0    143\n",
       "70.0     70\n",
       "75.0     53\n",
       "65.0     44\n",
       "78.0     25\n",
       "68.0     19\n",
       "64.0     19\n",
       "73.0     18\n",
       "79.0     17\n",
       "63.0     17\n",
       "72.0     17\n",
       "74.0     15\n",
       "66.0     15\n",
       "71.0     12\n",
       "67.0     12\n",
       "76.0     11\n",
       "69.0     11\n",
       "77.0      9\n",
       "62.0      9\n",
       "61.0      8\n",
       "Name: LotFrontage, dtype: int64"
      ]
     },
     "execution_count": 48,
     "metadata": {},
     "output_type": "execute_result"
    }
   ],
   "source": [
    "numfeatures.LotFrontage.value_counts()"
   ]
  },
  {
   "cell_type": "code",
   "execution_count": 49,
   "id": "40eb431f",
   "metadata": {},
   "outputs": [],
   "source": [
    "numfeatures['LotFrontage'].fillna(0, inplace=True) "
   ]
  },
  {
   "cell_type": "code",
   "execution_count": 50,
   "id": "3eaaf141",
   "metadata": {},
   "outputs": [],
   "source": [
    "#replace MasVnrArea  null values with 0.0"
   ]
  },
  {
   "cell_type": "code",
   "execution_count": 51,
   "id": "f71b7eee",
   "metadata": {},
   "outputs": [
    {
     "data": {
      "text/plain": [
       "0.0      861\n",
       "166.0    364\n",
       "72.0       8\n",
       "108.0      8\n",
       "120.0      7\n",
       "        ... \n",
       "138.0      1\n",
       "137.0      1\n",
       "115.0      1\n",
       "126.0      1\n",
       "119.0      1\n",
       "Name: MasVnrArea, Length: 109, dtype: int64"
      ]
     },
     "execution_count": 51,
     "metadata": {},
     "output_type": "execute_result"
    }
   ],
   "source": [
    "numfeatures['MasVnrArea'].value_counts()"
   ]
  },
  {
   "cell_type": "code",
   "execution_count": 52,
   "id": "4908279f",
   "metadata": {},
   "outputs": [],
   "source": [
    "numfeatures['MasVnrArea'].fillna(0, inplace=True) "
   ]
  },
  {
   "cell_type": "code",
   "execution_count": 53,
   "id": "aa349cfd",
   "metadata": {},
   "outputs": [
    {
     "data": {
      "text/plain": [
       "2002.0    355\n",
       "1961.0    347\n",
       "1977.0     35\n",
       "1998.0     31\n",
       "1999.0     30\n",
       "1976.0     29\n",
       "2000.0     27\n",
       "1968.0     26\n",
       "1993.0     22\n",
       "1966.0     21\n",
       "1962.0     21\n",
       "1965.0     21\n",
       "1970.0     20\n",
       "1996.0     20\n",
       "2001.0     20\n",
       "1978.0     19\n",
       "1997.0     19\n",
       "1964.0     18\n",
       "1974.0     18\n",
       "1995.0     18\n",
       "1994.0     18\n",
       "1963.0     16\n",
       "1990.0     16\n",
       "1967.0     15\n",
       "1980.0     15\n",
       "1979.0     15\n",
       "1969.0     15\n",
       "1972.0     14\n",
       "1973.0     14\n",
       "1988.0     14\n",
       "1971.0     13\n",
       "1992.0     13\n",
       "1987.0     11\n",
       "1989.0     10\n",
       "1985.0     10\n",
       "1981.0     10\n",
       "1975.0      9\n",
       "1991.0      9\n",
       "1984.0      8\n",
       "1983.0      7\n",
       "1986.0      6\n",
       "1982.0      4\n",
       "Name: GarageYrBlt, dtype: int64"
      ]
     },
     "execution_count": 53,
     "metadata": {},
     "output_type": "execute_result"
    }
   ],
   "source": [
    "#replace GarageYrBlt null values with 0\n",
    "numfeatures.GarageYrBlt.value_counts()"
   ]
  },
  {
   "cell_type": "code",
   "execution_count": 54,
   "id": "c608061f",
   "metadata": {},
   "outputs": [],
   "source": [
    "numfeatures['GarageYrBlt'].fillna(0, inplace=True) "
   ]
  },
  {
   "cell_type": "code",
   "execution_count": 55,
   "id": "44c27c71",
   "metadata": {},
   "outputs": [
    {
     "data": {
      "text/plain": [
       "LotFrontage      0.0\n",
       "LotArea          0.0\n",
       "YearBuilt        0.0\n",
       "YearRemodAdd     0.0\n",
       "MasVnrArea       0.0\n",
       "BsmtFinSF1       0.0\n",
       "BsmtFinSF2       0.0\n",
       "BsmtUnfSF        0.0\n",
       "TotalBsmtSF      0.0\n",
       "1stFlrSF         0.0\n",
       "2ndFlrSF         0.0\n",
       "LowQualFinSF     0.0\n",
       "GrLivArea        0.0\n",
       "GarageYrBlt      0.0\n",
       "GarageArea       0.0\n",
       "WoodDeckSF       0.0\n",
       "OpenPorchSF      0.0\n",
       "EnclosedPorch    0.0\n",
       "3SsnPorch        0.0\n",
       "ScreenPorch      0.0\n",
       "MiscVal          0.0\n",
       "dtype: float64"
      ]
     },
     "execution_count": 55,
     "metadata": {},
     "output_type": "execute_result"
    }
   ],
   "source": [
    "round(100*(numfeatures.isnull().sum()/len(numfeatures.index)), 2)"
   ]
  },
  {
   "cell_type": "code",
   "execution_count": 56,
   "id": "26c3c3c3",
   "metadata": {},
   "outputs": [],
   "source": [
    "#All numerical dataset null values are handled"
   ]
  },
  {
   "cell_type": "code",
   "execution_count": null,
   "id": "e1a9704e",
   "metadata": {},
   "outputs": [],
   "source": []
  },
  {
   "cell_type": "code",
   "execution_count": 57,
   "id": "bebb420d",
   "metadata": {},
   "outputs": [
    {
     "data": {
      "text/plain": [
       "MSZoning          0.00\n",
       "Street            0.00\n",
       "Alley            93.77\n",
       "LotShape          0.00\n",
       "LandContour       0.00\n",
       "Utilities         0.00\n",
       "LotConfig         0.00\n",
       "LandSlope         0.00\n",
       "Neighborhood      0.00\n",
       "Condition1        0.00\n",
       "Condition2        0.00\n",
       "BldgType          0.00\n",
       "HouseStyle        0.00\n",
       "RoofStyle         0.00\n",
       "RoofMatl          0.00\n",
       "Exterior1st       0.00\n",
       "Exterior2nd       0.00\n",
       "MasVnrType        0.55\n",
       "ExterQual         0.00\n",
       "ExterCond         0.00\n",
       "Foundation        0.00\n",
       "BsmtQual          2.53\n",
       "BsmtCond          2.53\n",
       "BsmtExposure      2.60\n",
       "BsmtFinType1      2.53\n",
       "BsmtFinType2      2.60\n",
       "Heating           0.00\n",
       "HeatingQC         0.00\n",
       "CentralAir        0.00\n",
       "Electrical        0.07\n",
       "KitchenQual       0.00\n",
       "Functional        0.00\n",
       "FireplaceQu      47.26\n",
       "GarageType        5.55\n",
       "GarageFinish      5.55\n",
       "GarageQual        5.55\n",
       "GarageCond        5.55\n",
       "PavedDrive        0.00\n",
       "PoolQC           99.52\n",
       "Fence            80.75\n",
       "MiscFeature      96.30\n",
       "SaleType          0.00\n",
       "SaleCondition     0.00\n",
       "MSSubClass        0.00\n",
       "OverallQual       0.00\n",
       "OverallCond       0.00\n",
       "BsmtFullBath      0.00\n",
       "BsmtHalfBath      0.00\n",
       "FullBath          0.00\n",
       "HalfBath          0.00\n",
       "BedroomAbvGr      0.00\n",
       "KitchenAbvGr      0.00\n",
       "TotRmsAbvGrd      0.00\n",
       "Fireplaces        0.00\n",
       "GarageCars        0.00\n",
       "PoolArea          0.00\n",
       "MoSold            0.00\n",
       "YrSold            0.00\n",
       "dtype: float64"
      ]
     },
     "execution_count": 57,
     "metadata": {},
     "output_type": "execute_result"
    }
   ],
   "source": [
    "# Lets check categorical variables null values\n",
    "round(100*(Catvariables.isnull().sum()/len(Catvariables.index)), 2)"
   ]
  },
  {
   "cell_type": "code",
   "execution_count": 58,
   "id": "78140a02",
   "metadata": {},
   "outputs": [
    {
     "data": {
      "text/plain": [
       "Grvl    50\n",
       "Pave    41\n",
       "Name: Alley, dtype: int64"
      ]
     },
     "execution_count": 58,
     "metadata": {},
     "output_type": "execute_result"
    }
   ],
   "source": [
    "#replace all categorical variables null values with none or with relevant txt\n",
    "Catvariables.Alley.value_counts()"
   ]
  },
  {
   "cell_type": "code",
   "execution_count": 59,
   "id": "29fea09a",
   "metadata": {},
   "outputs": [],
   "source": [
    "Catvariables['Alley'].fillna('None', inplace=True)"
   ]
  },
  {
   "cell_type": "code",
   "execution_count": 60,
   "id": "cd9c3ffc",
   "metadata": {},
   "outputs": [
    {
     "data": {
      "text/plain": [
       "None       864\n",
       "BrkFace    445\n",
       "Stone      128\n",
       "BrkCmn      15\n",
       "Name: MasVnrType, dtype: int64"
      ]
     },
     "execution_count": 60,
     "metadata": {},
     "output_type": "execute_result"
    }
   ],
   "source": [
    "Catvariables.MasVnrType.value_counts()"
   ]
  },
  {
   "cell_type": "code",
   "execution_count": 61,
   "id": "4e56e9f3",
   "metadata": {},
   "outputs": [],
   "source": [
    "Catvariables['MasVnrType'].fillna('None', inplace=True) "
   ]
  },
  {
   "cell_type": "code",
   "execution_count": 62,
   "id": "bc1bad8d",
   "metadata": {},
   "outputs": [
    {
     "data": {
      "text/plain": [
       "TA    649\n",
       "Gd    618\n",
       "Ex    121\n",
       "Fa     35\n",
       "Name: BsmtQual, dtype: int64"
      ]
     },
     "execution_count": 62,
     "metadata": {},
     "output_type": "execute_result"
    }
   ],
   "source": [
    "Catvariables.BsmtQual.value_counts()"
   ]
  },
  {
   "cell_type": "code",
   "execution_count": 63,
   "id": "0a3f9ccb",
   "metadata": {},
   "outputs": [],
   "source": [
    "Catvariables['BsmtQual'].fillna('None', inplace=True) "
   ]
  },
  {
   "cell_type": "code",
   "execution_count": 64,
   "id": "21af9642",
   "metadata": {},
   "outputs": [
    {
     "data": {
      "text/plain": [
       "TA    1311\n",
       "Gd      65\n",
       "Fa      45\n",
       "Po       2\n",
       "Name: BsmtCond, dtype: int64"
      ]
     },
     "execution_count": 64,
     "metadata": {},
     "output_type": "execute_result"
    }
   ],
   "source": [
    "Catvariables.BsmtCond.value_counts()"
   ]
  },
  {
   "cell_type": "code",
   "execution_count": 65,
   "id": "fd6aeaf2",
   "metadata": {},
   "outputs": [],
   "source": [
    "Catvariables['BsmtCond'].fillna('None', inplace=True) "
   ]
  },
  {
   "cell_type": "code",
   "execution_count": 66,
   "id": "d8ca0c7a",
   "metadata": {},
   "outputs": [
    {
     "data": {
      "text/plain": [
       "No    953\n",
       "Av    221\n",
       "Gd    134\n",
       "Mn    114\n",
       "Name: BsmtExposure, dtype: int64"
      ]
     },
     "execution_count": 66,
     "metadata": {},
     "output_type": "execute_result"
    }
   ],
   "source": [
    "Catvariables.BsmtExposure.value_counts()"
   ]
  },
  {
   "cell_type": "code",
   "execution_count": 67,
   "id": "139b7ba7",
   "metadata": {},
   "outputs": [],
   "source": [
    "Catvariables['BsmtExposure'].fillna('None', inplace=True) "
   ]
  },
  {
   "cell_type": "code",
   "execution_count": 68,
   "id": "40fbbb7e",
   "metadata": {},
   "outputs": [
    {
     "data": {
      "text/plain": [
       "Unf    430\n",
       "GLQ    418\n",
       "ALQ    220\n",
       "BLQ    148\n",
       "Rec    133\n",
       "LwQ     74\n",
       "Name: BsmtFinType1, dtype: int64"
      ]
     },
     "execution_count": 68,
     "metadata": {},
     "output_type": "execute_result"
    }
   ],
   "source": [
    "Catvariables.BsmtFinType1.value_counts()"
   ]
  },
  {
   "cell_type": "code",
   "execution_count": 69,
   "id": "0c9f2b98",
   "metadata": {},
   "outputs": [],
   "source": [
    "Catvariables['BsmtFinType1'].fillna('None', inplace=True) "
   ]
  },
  {
   "cell_type": "code",
   "execution_count": 70,
   "id": "3607cbcf",
   "metadata": {},
   "outputs": [],
   "source": [
    "Catvariables['BsmtFinType2'].fillna('None', inplace=True) "
   ]
  },
  {
   "cell_type": "code",
   "execution_count": 71,
   "id": "0f202018",
   "metadata": {},
   "outputs": [
    {
     "data": {
      "text/plain": [
       "SBrkr    1334\n",
       "FuseA      94\n",
       "FuseF      27\n",
       "FuseP       3\n",
       "Mix         1\n",
       "Name: Electrical, dtype: int64"
      ]
     },
     "execution_count": 71,
     "metadata": {},
     "output_type": "execute_result"
    }
   ],
   "source": [
    "Catvariables.Electrical.value_counts()"
   ]
  },
  {
   "cell_type": "code",
   "execution_count": 72,
   "id": "9b3f83b8",
   "metadata": {},
   "outputs": [],
   "source": [
    "Catvariables['Electrical'].fillna('None', inplace=True) "
   ]
  },
  {
   "cell_type": "code",
   "execution_count": 73,
   "id": "c1a990c1",
   "metadata": {},
   "outputs": [
    {
     "data": {
      "text/plain": [
       "Gd    380\n",
       "TA    313\n",
       "Fa     33\n",
       "Ex     24\n",
       "Po     20\n",
       "Name: FireplaceQu, dtype: int64"
      ]
     },
     "execution_count": 73,
     "metadata": {},
     "output_type": "execute_result"
    }
   ],
   "source": [
    "Catvariables.FireplaceQu.value_counts()"
   ]
  },
  {
   "cell_type": "code",
   "execution_count": 74,
   "id": "5d5dc8fd",
   "metadata": {},
   "outputs": [],
   "source": [
    "Catvariables['FireplaceQu'].fillna('None', inplace=True) "
   ]
  },
  {
   "cell_type": "code",
   "execution_count": 75,
   "id": "016ce114",
   "metadata": {},
   "outputs": [
    {
     "data": {
      "text/plain": [
       "Attchd     870\n",
       "Detchd     387\n",
       "BuiltIn     88\n",
       "Basment     19\n",
       "CarPort      9\n",
       "2Types       6\n",
       "Name: GarageType, dtype: int64"
      ]
     },
     "execution_count": 75,
     "metadata": {},
     "output_type": "execute_result"
    }
   ],
   "source": [
    "Catvariables.GarageType.value_counts()"
   ]
  },
  {
   "cell_type": "code",
   "execution_count": 76,
   "id": "dca5a772",
   "metadata": {},
   "outputs": [],
   "source": [
    "Catvariables['GarageType'].fillna('None', inplace=True) "
   ]
  },
  {
   "cell_type": "code",
   "execution_count": 77,
   "id": "1a20dfd2",
   "metadata": {},
   "outputs": [],
   "source": [
    "Catvariables.GarageFinish.fillna('None', inplace=True) "
   ]
  },
  {
   "cell_type": "code",
   "execution_count": 78,
   "id": "63184e02",
   "metadata": {},
   "outputs": [],
   "source": [
    "Catvariables.GarageCond.fillna('None', inplace=True) "
   ]
  },
  {
   "cell_type": "code",
   "execution_count": 79,
   "id": "d1e54943",
   "metadata": {},
   "outputs": [],
   "source": [
    "Catvariables.PoolQC.fillna('None', inplace=True)"
   ]
  },
  {
   "cell_type": "code",
   "execution_count": 80,
   "id": "306caef6",
   "metadata": {},
   "outputs": [],
   "source": [
    "Catvariables.Fence.fillna('None', inplace=True)"
   ]
  },
  {
   "cell_type": "code",
   "execution_count": 81,
   "id": "870ee342",
   "metadata": {},
   "outputs": [],
   "source": [
    "Catvariables.MiscFeature.fillna('None', inplace=True)"
   ]
  },
  {
   "cell_type": "code",
   "execution_count": 82,
   "id": "e7367673",
   "metadata": {},
   "outputs": [],
   "source": [
    "Catvariables.GarageQual.fillna('None', inplace=True)\n"
   ]
  },
  {
   "cell_type": "code",
   "execution_count": 83,
   "id": "98143633",
   "metadata": {},
   "outputs": [
    {
     "data": {
      "text/plain": [
       "MSZoning         0.0\n",
       "Street           0.0\n",
       "Alley            0.0\n",
       "LotShape         0.0\n",
       "LandContour      0.0\n",
       "Utilities        0.0\n",
       "LotConfig        0.0\n",
       "LandSlope        0.0\n",
       "Neighborhood     0.0\n",
       "Condition1       0.0\n",
       "Condition2       0.0\n",
       "BldgType         0.0\n",
       "HouseStyle       0.0\n",
       "RoofStyle        0.0\n",
       "RoofMatl         0.0\n",
       "Exterior1st      0.0\n",
       "Exterior2nd      0.0\n",
       "MasVnrType       0.0\n",
       "ExterQual        0.0\n",
       "ExterCond        0.0\n",
       "Foundation       0.0\n",
       "BsmtQual         0.0\n",
       "BsmtCond         0.0\n",
       "BsmtExposure     0.0\n",
       "BsmtFinType1     0.0\n",
       "BsmtFinType2     0.0\n",
       "Heating          0.0\n",
       "HeatingQC        0.0\n",
       "CentralAir       0.0\n",
       "Electrical       0.0\n",
       "KitchenQual      0.0\n",
       "Functional       0.0\n",
       "FireplaceQu      0.0\n",
       "GarageType       0.0\n",
       "GarageFinish     0.0\n",
       "GarageQual       0.0\n",
       "GarageCond       0.0\n",
       "PavedDrive       0.0\n",
       "PoolQC           0.0\n",
       "Fence            0.0\n",
       "MiscFeature      0.0\n",
       "SaleType         0.0\n",
       "SaleCondition    0.0\n",
       "MSSubClass       0.0\n",
       "OverallQual      0.0\n",
       "OverallCond      0.0\n",
       "BsmtFullBath     0.0\n",
       "BsmtHalfBath     0.0\n",
       "FullBath         0.0\n",
       "HalfBath         0.0\n",
       "BedroomAbvGr     0.0\n",
       "KitchenAbvGr     0.0\n",
       "TotRmsAbvGrd     0.0\n",
       "Fireplaces       0.0\n",
       "GarageCars       0.0\n",
       "PoolArea         0.0\n",
       "MoSold           0.0\n",
       "YrSold           0.0\n",
       "dtype: float64"
      ]
     },
     "execution_count": 83,
     "metadata": {},
     "output_type": "execute_result"
    }
   ],
   "source": [
    "round(100*(Catvariables.isnull().sum()/len(Catvariables.index)), 2)"
   ]
  },
  {
   "cell_type": "code",
   "execution_count": 84,
   "id": "0b1d4a69",
   "metadata": {},
   "outputs": [],
   "source": [
    "#As per above data, all null values handled in categorical variables"
   ]
  },
  {
   "cell_type": "code",
   "execution_count": 85,
   "id": "c99726da",
   "metadata": {},
   "outputs": [],
   "source": [
    "#In GarageYrBlt,YearRemodAdd,YearBuilt,YrSold, instead of year, replace with number of years before 2022"
   ]
  },
  {
   "cell_type": "code",
   "execution_count": 86,
   "id": "5700157c",
   "metadata": {},
   "outputs": [
    {
     "data": {
      "text/plain": [
       "YrSold    0\n",
       "dtype: int64"
      ]
     },
     "execution_count": 86,
     "metadata": {},
     "output_type": "execute_result"
    }
   ],
   "source": [
    "(Catvariables[['YrSold']] == 0).sum()"
   ]
  },
  {
   "cell_type": "code",
   "execution_count": 87,
   "id": "896d1f91",
   "metadata": {},
   "outputs": [
    {
     "data": {
      "text/plain": [
       "YearBuilt    0\n",
       "dtype: int64"
      ]
     },
     "execution_count": 87,
     "metadata": {},
     "output_type": "execute_result"
    }
   ],
   "source": [
    "(numfeatures[['YearBuilt']] == 0).sum()"
   ]
  },
  {
   "cell_type": "code",
   "execution_count": 88,
   "id": "5c1d7ac8",
   "metadata": {},
   "outputs": [
    {
     "data": {
      "text/plain": [
       "YearRemodAdd    0\n",
       "dtype: int64"
      ]
     },
     "execution_count": 88,
     "metadata": {},
     "output_type": "execute_result"
    }
   ],
   "source": [
    "(numfeatures[['YearRemodAdd']] == 0).sum()"
   ]
  },
  {
   "cell_type": "code",
   "execution_count": 89,
   "id": "ad66fc8a",
   "metadata": {},
   "outputs": [
    {
     "data": {
      "text/plain": [
       "GarageYrBlt    81\n",
       "dtype: int64"
      ]
     },
     "execution_count": 89,
     "metadata": {},
     "output_type": "execute_result"
    }
   ],
   "source": [
    "(numfeatures[['GarageYrBlt']] == 0).sum()"
   ]
  },
  {
   "cell_type": "code",
   "execution_count": 90,
   "id": "7e05399a",
   "metadata": {},
   "outputs": [],
   "source": [
    "numfeatures['YearBuilt'] = 2022 - numfeatures['YearBuilt']\n",
    "numfeatures['YearRemodAdd'] = 2022 - numfeatures['YearRemodAdd']\n",
    "numfeatures['GarageYrBlt'] = 2022 - numfeatures['GarageYrBlt']\n",
    "Catvariables['YrSold'] = 2022 - Catvariables['YrSold']"
   ]
  },
  {
   "cell_type": "code",
   "execution_count": 91,
   "id": "89923286",
   "metadata": {},
   "outputs": [],
   "source": [
    "#combile all numberical and categorical variable as one combined pridictor dataset\n",
    "predictvar = pd.concat([numfeatures, Catvariables], axis=1, join='inner')"
   ]
  },
  {
   "cell_type": "code",
   "execution_count": 92,
   "id": "44f8f5d9",
   "metadata": {},
   "outputs": [
    {
     "data": {
      "text/html": [
       "<div>\n",
       "<style scoped>\n",
       "    .dataframe tbody tr th:only-of-type {\n",
       "        vertical-align: middle;\n",
       "    }\n",
       "\n",
       "    .dataframe tbody tr th {\n",
       "        vertical-align: top;\n",
       "    }\n",
       "\n",
       "    .dataframe thead th {\n",
       "        text-align: right;\n",
       "    }\n",
       "</style>\n",
       "<table border=\"1\" class=\"dataframe\">\n",
       "  <thead>\n",
       "    <tr style=\"text-align: right;\">\n",
       "      <th></th>\n",
       "      <th>LotFrontage</th>\n",
       "      <th>LotArea</th>\n",
       "      <th>YearBuilt</th>\n",
       "      <th>YearRemodAdd</th>\n",
       "      <th>MasVnrArea</th>\n",
       "      <th>BsmtFinSF1</th>\n",
       "      <th>BsmtFinSF2</th>\n",
       "      <th>BsmtUnfSF</th>\n",
       "      <th>TotalBsmtSF</th>\n",
       "      <th>1stFlrSF</th>\n",
       "      <th>...</th>\n",
       "      <th>FullBath</th>\n",
       "      <th>HalfBath</th>\n",
       "      <th>BedroomAbvGr</th>\n",
       "      <th>KitchenAbvGr</th>\n",
       "      <th>TotRmsAbvGrd</th>\n",
       "      <th>Fireplaces</th>\n",
       "      <th>GarageCars</th>\n",
       "      <th>PoolArea</th>\n",
       "      <th>MoSold</th>\n",
       "      <th>YrSold</th>\n",
       "    </tr>\n",
       "  </thead>\n",
       "  <tbody>\n",
       "    <tr>\n",
       "      <th>0</th>\n",
       "      <td>65.0</td>\n",
       "      <td>8450.0</td>\n",
       "      <td>22.0</td>\n",
       "      <td>19.0</td>\n",
       "      <td>166.0</td>\n",
       "      <td>706.00</td>\n",
       "      <td>0.0</td>\n",
       "      <td>223.0</td>\n",
       "      <td>856.00</td>\n",
       "      <td>882.0</td>\n",
       "      <td>...</td>\n",
       "      <td>2</td>\n",
       "      <td>1</td>\n",
       "      <td>3</td>\n",
       "      <td>1</td>\n",
       "      <td>8</td>\n",
       "      <td>0</td>\n",
       "      <td>2</td>\n",
       "      <td>0</td>\n",
       "      <td>2</td>\n",
       "      <td>14</td>\n",
       "    </tr>\n",
       "    <tr>\n",
       "      <th>1</th>\n",
       "      <td>80.0</td>\n",
       "      <td>9600.0</td>\n",
       "      <td>46.0</td>\n",
       "      <td>46.0</td>\n",
       "      <td>0.0</td>\n",
       "      <td>712.25</td>\n",
       "      <td>0.0</td>\n",
       "      <td>284.0</td>\n",
       "      <td>1262.00</td>\n",
       "      <td>1262.0</td>\n",
       "      <td>...</td>\n",
       "      <td>2</td>\n",
       "      <td>0</td>\n",
       "      <td>3</td>\n",
       "      <td>1</td>\n",
       "      <td>6</td>\n",
       "      <td>1</td>\n",
       "      <td>2</td>\n",
       "      <td>0</td>\n",
       "      <td>5</td>\n",
       "      <td>15</td>\n",
       "    </tr>\n",
       "    <tr>\n",
       "      <th>2</th>\n",
       "      <td>68.0</td>\n",
       "      <td>11250.0</td>\n",
       "      <td>22.0</td>\n",
       "      <td>20.0</td>\n",
       "      <td>162.0</td>\n",
       "      <td>486.00</td>\n",
       "      <td>0.0</td>\n",
       "      <td>434.0</td>\n",
       "      <td>920.00</td>\n",
       "      <td>920.0</td>\n",
       "      <td>...</td>\n",
       "      <td>2</td>\n",
       "      <td>1</td>\n",
       "      <td>3</td>\n",
       "      <td>1</td>\n",
       "      <td>6</td>\n",
       "      <td>1</td>\n",
       "      <td>2</td>\n",
       "      <td>0</td>\n",
       "      <td>9</td>\n",
       "      <td>14</td>\n",
       "    </tr>\n",
       "    <tr>\n",
       "      <th>3</th>\n",
       "      <td>60.0</td>\n",
       "      <td>9550.0</td>\n",
       "      <td>68.0</td>\n",
       "      <td>52.0</td>\n",
       "      <td>0.0</td>\n",
       "      <td>216.00</td>\n",
       "      <td>0.0</td>\n",
       "      <td>540.0</td>\n",
       "      <td>795.75</td>\n",
       "      <td>961.0</td>\n",
       "      <td>...</td>\n",
       "      <td>1</td>\n",
       "      <td>0</td>\n",
       "      <td>3</td>\n",
       "      <td>1</td>\n",
       "      <td>7</td>\n",
       "      <td>1</td>\n",
       "      <td>3</td>\n",
       "      <td>0</td>\n",
       "      <td>2</td>\n",
       "      <td>16</td>\n",
       "    </tr>\n",
       "    <tr>\n",
       "      <th>4</th>\n",
       "      <td>80.0</td>\n",
       "      <td>11601.5</td>\n",
       "      <td>22.0</td>\n",
       "      <td>22.0</td>\n",
       "      <td>166.0</td>\n",
       "      <td>655.00</td>\n",
       "      <td>0.0</td>\n",
       "      <td>490.0</td>\n",
       "      <td>1145.00</td>\n",
       "      <td>1145.0</td>\n",
       "      <td>...</td>\n",
       "      <td>2</td>\n",
       "      <td>1</td>\n",
       "      <td>4</td>\n",
       "      <td>1</td>\n",
       "      <td>9</td>\n",
       "      <td>1</td>\n",
       "      <td>3</td>\n",
       "      <td>0</td>\n",
       "      <td>12</td>\n",
       "      <td>14</td>\n",
       "    </tr>\n",
       "  </tbody>\n",
       "</table>\n",
       "<p>5 rows × 79 columns</p>\n",
       "</div>"
      ],
      "text/plain": [
       "   LotFrontage  LotArea  YearBuilt  YearRemodAdd  MasVnrArea  BsmtFinSF1  \\\n",
       "0         65.0   8450.0       22.0          19.0       166.0      706.00   \n",
       "1         80.0   9600.0       46.0          46.0         0.0      712.25   \n",
       "2         68.0  11250.0       22.0          20.0       162.0      486.00   \n",
       "3         60.0   9550.0       68.0          52.0         0.0      216.00   \n",
       "4         80.0  11601.5       22.0          22.0       166.0      655.00   \n",
       "\n",
       "   BsmtFinSF2  BsmtUnfSF  TotalBsmtSF  1stFlrSF  ...  FullBath  HalfBath  \\\n",
       "0         0.0      223.0       856.00     882.0  ...         2         1   \n",
       "1         0.0      284.0      1262.00    1262.0  ...         2         0   \n",
       "2         0.0      434.0       920.00     920.0  ...         2         1   \n",
       "3         0.0      540.0       795.75     961.0  ...         1         0   \n",
       "4         0.0      490.0      1145.00    1145.0  ...         2         1   \n",
       "\n",
       "   BedroomAbvGr  KitchenAbvGr  TotRmsAbvGrd  Fireplaces  GarageCars  PoolArea  \\\n",
       "0             3             1             8           0           2         0   \n",
       "1             3             1             6           1           2         0   \n",
       "2             3             1             6           1           2         0   \n",
       "3             3             1             7           1           3         0   \n",
       "4             4             1             9           1           3         0   \n",
       "\n",
       "   MoSold  YrSold  \n",
       "0       2      14  \n",
       "1       5      15  \n",
       "2       9      14  \n",
       "3       2      16  \n",
       "4      12      14  \n",
       "\n",
       "[5 rows x 79 columns]"
      ]
     },
     "execution_count": 92,
     "metadata": {},
     "output_type": "execute_result"
    }
   ],
   "source": [
    "predictvar.head()"
   ]
  },
  {
   "cell_type": "code",
   "execution_count": 93,
   "id": "dc881492",
   "metadata": {},
   "outputs": [
    {
     "data": {
      "text/plain": [
       "11.849398    20\n",
       "11.813030    17\n",
       "11.951180    14\n",
       "11.884489    14\n",
       "12.154779    13\n",
       "             ..\n",
       "12.219310     1\n",
       "12.013095     1\n",
       "12.246735     1\n",
       "12.109011     1\n",
       "11.901583     1\n",
       "Name: SalePrice, Length: 663, dtype: int64"
      ]
     },
     "execution_count": 93,
     "metadata": {},
     "output_type": "execute_result"
    }
   ],
   "source": [
    "targetvar.value_counts()"
   ]
  },
  {
   "cell_type": "markdown",
   "id": "814c61b2",
   "metadata": {},
   "source": [
    "# In categorical variables there are more than 2 or 3 unique string values exists which should be standardized to fit data"
   ]
  },
  {
   "cell_type": "code",
   "execution_count": 94,
   "id": "43363064",
   "metadata": {},
   "outputs": [
    {
     "name": "stdout",
     "output_type": "stream",
     "text": [
      "MSZoning             ['RL' 'RM' 'C (all)' 'FV' 'RH']\n",
      "Street               ['Pave' 'Grvl']\n",
      "Alley                ['None' 'Grvl' 'Pave']\n",
      "LotShape             ['Reg' 'IR1' 'IR2' 'IR3']\n",
      "LandContour          ['Lvl' 'Bnk' 'Low' 'HLS']\n",
      "Utilities            ['AllPub' 'NoSeWa']\n",
      "LotConfig            ['Inside' 'FR2' 'Corner' 'CulDSac' 'FR3']\n",
      "LandSlope            ['Gtl' 'Mod' 'Sev']\n",
      "Neighborhood         ['CollgCr' 'Veenker' 'Crawfor' 'NoRidge' 'Mitchel' 'Somerst' 'NWAmes'\n",
      " 'OldTown' 'BrkSide' 'Sawyer' 'NridgHt' 'NAmes' 'SawyerW' 'IDOTRR'\n",
      " 'MeadowV' 'Edwards' 'Timber' 'Gilbert' 'StoneBr' 'ClearCr' 'NPkVill'\n",
      " 'Blmngtn' 'BrDale' 'SWISU' 'Blueste']\n",
      "Condition1           ['Norm' 'Feedr' 'PosN' 'Artery' 'RRAe' 'RRNn' 'RRAn' 'PosA' 'RRNe']\n",
      "Condition2           ['Norm' 'Artery' 'RRNn' 'Feedr' 'PosN' 'PosA' 'RRAn' 'RRAe']\n",
      "BldgType             ['1Fam' '2fmCon' 'Duplex' 'TwnhsE' 'Twnhs']\n",
      "HouseStyle           ['2Story' '1Story' '1.5Fin' '1.5Unf' 'SFoyer' 'SLvl' '2.5Unf' '2.5Fin']\n",
      "RoofStyle            ['Gable' 'Hip' 'Gambrel' 'Mansard' 'Flat' 'Shed']\n",
      "RoofMatl             ['CompShg' 'WdShngl' 'Metal' 'WdShake' 'Membran' 'Tar&Grv' 'Roll'\n",
      " 'ClyTile']\n",
      "Exterior1st          ['VinylSd' 'MetalSd' 'Wd Sdng' 'HdBoard' 'BrkFace' 'WdShing' 'CemntBd'\n",
      " 'Plywood' 'AsbShng' 'Stucco' 'BrkComm' 'AsphShn' 'Stone' 'ImStucc'\n",
      " 'CBlock']\n",
      "Exterior2nd          ['VinylSd' 'MetalSd' 'Wd Shng' 'HdBoard' 'Plywood' 'Wd Sdng' 'CmentBd'\n",
      " 'BrkFace' 'Stucco' 'AsbShng' 'Brk Cmn' 'ImStucc' 'AsphShn' 'Stone'\n",
      " 'Other' 'CBlock']\n",
      "MasVnrType           ['BrkFace' 'None' 'Stone' 'BrkCmn']\n",
      "ExterQual            ['Gd' 'TA' 'Ex' 'Fa']\n",
      "ExterCond            ['TA' 'Gd' 'Fa' 'Po' 'Ex']\n",
      "Foundation           ['PConc' 'CBlock' 'BrkTil' 'Wood' 'Slab' 'Stone']\n",
      "BsmtQual             ['Gd' 'TA' 'Ex' 'None' 'Fa']\n",
      "BsmtCond             ['TA' 'Gd' 'None' 'Fa' 'Po']\n",
      "BsmtExposure         ['No' 'Gd' 'Mn' 'Av' 'None']\n",
      "BsmtFinType1         ['GLQ' 'ALQ' 'Unf' 'Rec' 'BLQ' 'None' 'LwQ']\n",
      "BsmtFinType2         ['Unf' 'BLQ' 'None' 'ALQ' 'Rec' 'LwQ' 'GLQ']\n",
      "Heating              ['GasA' 'GasW' 'Grav' 'Wall' 'OthW' 'Floor']\n",
      "HeatingQC            ['Ex' 'Gd' 'TA' 'Fa' 'Po']\n",
      "CentralAir           ['Y' 'N']\n",
      "Electrical           ['SBrkr' 'FuseF' 'FuseA' 'FuseP' 'Mix' 'None']\n",
      "KitchenQual          ['Gd' 'TA' 'Ex' 'Fa']\n",
      "Functional           ['Typ' 'Min1' 'Maj1' 'Min2' 'Mod' 'Maj2' 'Sev']\n",
      "FireplaceQu          ['None' 'TA' 'Gd' 'Fa' 'Ex' 'Po']\n",
      "GarageType           ['Attchd' 'Detchd' 'BuiltIn' 'CarPort' 'None' 'Basment' '2Types']\n",
      "GarageFinish         ['RFn' 'Unf' 'Fin' 'None']\n",
      "GarageQual           ['TA' 'Fa' 'Gd' 'None' 'Ex' 'Po']\n",
      "GarageCond           ['TA' 'Fa' 'None' 'Gd' 'Po' 'Ex']\n",
      "PavedDrive           ['Y' 'N' 'P']\n",
      "PoolQC               ['None' 'Ex' 'Fa' 'Gd']\n",
      "Fence                ['None' 'MnPrv' 'GdWo' 'GdPrv' 'MnWw']\n",
      "MiscFeature          ['None' 'Shed' 'Gar2' 'Othr' 'TenC']\n",
      "SaleType             ['WD' 'New' 'COD' 'ConLD' 'ConLI' 'CWD' 'ConLw' 'Con' 'Oth']\n",
      "SaleCondition        ['Normal' 'Abnorml' 'Partial' 'AdjLand' 'Alloca' 'Family']\n",
      "MSSubClass           [ 60  20  70  50 190  45  90 120  30  85  80 160  75 180  40]\n",
      "OverallQual          [ 7  6  8  5  9  4 10  3  1  2]\n",
      "OverallCond          [5 8 6 7 4 2 3 9 1]\n",
      "BsmtFullBath         [1 0 2 3]\n",
      "BsmtHalfBath         [0 1 2]\n",
      "FullBath             [2 1 3 0]\n",
      "HalfBath             [1 0 2]\n",
      "BedroomAbvGr         [3 4 1 2 0 5 6 8]\n",
      "KitchenAbvGr         [1 2 3 0]\n",
      "TotRmsAbvGrd         [ 8  6  7  9  5 11  4 10 12  3  2 14]\n",
      "Fireplaces           [0 1 2 3]\n",
      "GarageCars           [2 3 1 0 4]\n",
      "PoolArea             [  0 512 648 576 555 480 519 738]\n",
      "MoSold               [ 2  5  9 12 10  8 11  4  1  7  3  6]\n",
      "YrSold               [14 15 16 13 12]\n"
     ]
    }
   ],
   "source": [
    "# Run for loop for view of all categorical variables and unique identifiers\n",
    "for c in Catvariables.columns:\n",
    "    print('{:<20}'.format(c), predictvar[c].unique())"
   ]
  },
  {
   "cell_type": "code",
   "execution_count": 95,
   "id": "87af8d9b",
   "metadata": {},
   "outputs": [],
   "source": [
    "columns1 = ('MSZoning', 'Street', 'Alley', 'LotShape', 'LandContour', 'Utilities',\n",
    "       'LotConfig', 'LandSlope', 'Neighborhood', 'Condition1', 'Condition2',\n",
    "       'BldgType', 'HouseStyle', 'RoofStyle', 'RoofMatl', 'Exterior1st',\n",
    "       'Exterior2nd', 'MasVnrType', 'ExterQual', 'ExterCond', 'Foundation',\n",
    "       'BsmtQual', 'BsmtCond', 'BsmtExposure', 'BsmtFinType1', 'BsmtFinType2',\n",
    "       'Heating', 'HeatingQC', 'CentralAir', 'Electrical', 'KitchenQual',\n",
    "       'Functional', 'FireplaceQu', 'GarageType', 'GarageFinish', 'GarageQual',\n",
    "       'GarageCond', 'PavedDrive', 'PoolQC', 'Fence', 'MiscFeature',\n",
    "       'SaleType', 'SaleCondition')\n",
    "\n",
    "# Apply LabelEncoder to all columns above\n",
    "for i in columns1:\n",
    "    lbl = LabelEncoder() \n",
    "    lbl.fit(list(predictvar[i].values)) \n",
    "    predictvar[i] = lbl.transform(list(predictvar[i].values))"
   ]
  },
  {
   "cell_type": "code",
   "execution_count": null,
   "id": "dc616e1d",
   "metadata": {},
   "outputs": [],
   "source": []
  },
  {
   "cell_type": "markdown",
   "id": "0d740d88",
   "metadata": {},
   "source": [
    "# Split train test data"
   ]
  },
  {
   "cell_type": "code",
   "execution_count": 96,
   "id": "3bc6dbed",
   "metadata": {},
   "outputs": [],
   "source": [
    "y = targetvar\n",
    "X = predictvar"
   ]
  },
  {
   "cell_type": "code",
   "execution_count": 97,
   "id": "cf92c22d",
   "metadata": {},
   "outputs": [],
   "source": [
    "X_train, X_test, y_train, y_test = train_test_split(X, y, test_size = 0.2,  random_state =100)"
   ]
  },
  {
   "cell_type": "code",
   "execution_count": 98,
   "id": "92b5a66b",
   "metadata": {},
   "outputs": [
    {
     "data": {
      "text/html": [
       "<div>\n",
       "<style scoped>\n",
       "    .dataframe tbody tr th:only-of-type {\n",
       "        vertical-align: middle;\n",
       "    }\n",
       "\n",
       "    .dataframe tbody tr th {\n",
       "        vertical-align: top;\n",
       "    }\n",
       "\n",
       "    .dataframe thead th {\n",
       "        text-align: right;\n",
       "    }\n",
       "</style>\n",
       "<table border=\"1\" class=\"dataframe\">\n",
       "  <thead>\n",
       "    <tr style=\"text-align: right;\">\n",
       "      <th></th>\n",
       "      <th>LotFrontage</th>\n",
       "      <th>LotArea</th>\n",
       "      <th>YearBuilt</th>\n",
       "      <th>YearRemodAdd</th>\n",
       "      <th>MasVnrArea</th>\n",
       "      <th>BsmtFinSF1</th>\n",
       "      <th>BsmtFinSF2</th>\n",
       "      <th>BsmtUnfSF</th>\n",
       "      <th>TotalBsmtSF</th>\n",
       "      <th>1stFlrSF</th>\n",
       "      <th>...</th>\n",
       "      <th>FullBath</th>\n",
       "      <th>HalfBath</th>\n",
       "      <th>BedroomAbvGr</th>\n",
       "      <th>KitchenAbvGr</th>\n",
       "      <th>TotRmsAbvGrd</th>\n",
       "      <th>Fireplaces</th>\n",
       "      <th>GarageCars</th>\n",
       "      <th>PoolArea</th>\n",
       "      <th>MoSold</th>\n",
       "      <th>YrSold</th>\n",
       "    </tr>\n",
       "  </thead>\n",
       "  <tbody>\n",
       "    <tr>\n",
       "      <th>133</th>\n",
       "      <td>0.0</td>\n",
       "      <td>7553.5</td>\n",
       "      <td>22.0</td>\n",
       "      <td>20.0</td>\n",
       "      <td>136.0</td>\n",
       "      <td>712.25</td>\n",
       "      <td>0.0</td>\n",
       "      <td>262.0</td>\n",
       "      <td>1267.00</td>\n",
       "      <td>1296.00</td>\n",
       "      <td>...</td>\n",
       "      <td>2</td>\n",
       "      <td>0</td>\n",
       "      <td>2</td>\n",
       "      <td>1</td>\n",
       "      <td>6</td>\n",
       "      <td>0</td>\n",
       "      <td>2</td>\n",
       "      <td>0</td>\n",
       "      <td>6</td>\n",
       "      <td>13</td>\n",
       "    </tr>\n",
       "    <tr>\n",
       "      <th>290</th>\n",
       "      <td>80.0</td>\n",
       "      <td>11601.5</td>\n",
       "      <td>22.0</td>\n",
       "      <td>18.0</td>\n",
       "      <td>0.0</td>\n",
       "      <td>0.00</td>\n",
       "      <td>0.0</td>\n",
       "      <td>808.0</td>\n",
       "      <td>1079.00</td>\n",
       "      <td>1079.00</td>\n",
       "      <td>...</td>\n",
       "      <td>2</td>\n",
       "      <td>1</td>\n",
       "      <td>3</td>\n",
       "      <td>1</td>\n",
       "      <td>8</td>\n",
       "      <td>1</td>\n",
       "      <td>2</td>\n",
       "      <td>0</td>\n",
       "      <td>7</td>\n",
       "      <td>16</td>\n",
       "    </tr>\n",
       "    <tr>\n",
       "      <th>24</th>\n",
       "      <td>0.0</td>\n",
       "      <td>8246.0</td>\n",
       "      <td>54.0</td>\n",
       "      <td>21.0</td>\n",
       "      <td>0.0</td>\n",
       "      <td>188.00</td>\n",
       "      <td>0.0</td>\n",
       "      <td>223.0</td>\n",
       "      <td>1060.00</td>\n",
       "      <td>1060.00</td>\n",
       "      <td>...</td>\n",
       "      <td>1</td>\n",
       "      <td>0</td>\n",
       "      <td>3</td>\n",
       "      <td>1</td>\n",
       "      <td>6</td>\n",
       "      <td>1</td>\n",
       "      <td>1</td>\n",
       "      <td>0</td>\n",
       "      <td>5</td>\n",
       "      <td>12</td>\n",
       "    </tr>\n",
       "    <tr>\n",
       "      <th>1093</th>\n",
       "      <td>71.0</td>\n",
       "      <td>9230.0</td>\n",
       "      <td>57.0</td>\n",
       "      <td>24.0</td>\n",
       "      <td>166.0</td>\n",
       "      <td>661.00</td>\n",
       "      <td>0.0</td>\n",
       "      <td>223.0</td>\n",
       "      <td>864.00</td>\n",
       "      <td>1200.00</td>\n",
       "      <td>...</td>\n",
       "      <td>1</td>\n",
       "      <td>1</td>\n",
       "      <td>1</td>\n",
       "      <td>1</td>\n",
       "      <td>6</td>\n",
       "      <td>0</td>\n",
       "      <td>2</td>\n",
       "      <td>0</td>\n",
       "      <td>10</td>\n",
       "      <td>16</td>\n",
       "    </tr>\n",
       "    <tr>\n",
       "      <th>1288</th>\n",
       "      <td>59.0</td>\n",
       "      <td>7553.5</td>\n",
       "      <td>22.0</td>\n",
       "      <td>22.0</td>\n",
       "      <td>0.0</td>\n",
       "      <td>712.25</td>\n",
       "      <td>0.0</td>\n",
       "      <td>343.0</td>\n",
       "      <td>1298.25</td>\n",
       "      <td>1391.25</td>\n",
       "      <td>...</td>\n",
       "      <td>2</td>\n",
       "      <td>0</td>\n",
       "      <td>2</td>\n",
       "      <td>1</td>\n",
       "      <td>5</td>\n",
       "      <td>1</td>\n",
       "      <td>2</td>\n",
       "      <td>0</td>\n",
       "      <td>10</td>\n",
       "      <td>13</td>\n",
       "    </tr>\n",
       "    <tr>\n",
       "      <th>...</th>\n",
       "      <td>...</td>\n",
       "      <td>...</td>\n",
       "      <td>...</td>\n",
       "      <td>...</td>\n",
       "      <td>...</td>\n",
       "      <td>...</td>\n",
       "      <td>...</td>\n",
       "      <td>...</td>\n",
       "      <td>...</td>\n",
       "      <td>...</td>\n",
       "      <td>...</td>\n",
       "      <td>...</td>\n",
       "      <td>...</td>\n",
       "      <td>...</td>\n",
       "      <td>...</td>\n",
       "      <td>...</td>\n",
       "      <td>...</td>\n",
       "      <td>...</td>\n",
       "      <td>...</td>\n",
       "      <td>...</td>\n",
       "      <td>...</td>\n",
       "    </tr>\n",
       "    <tr>\n",
       "      <th>802</th>\n",
       "      <td>63.0</td>\n",
       "      <td>8199.0</td>\n",
       "      <td>22.0</td>\n",
       "      <td>18.0</td>\n",
       "      <td>0.0</td>\n",
       "      <td>648.00</td>\n",
       "      <td>0.0</td>\n",
       "      <td>223.0</td>\n",
       "      <td>795.75</td>\n",
       "      <td>882.00</td>\n",
       "      <td>...</td>\n",
       "      <td>2</td>\n",
       "      <td>1</td>\n",
       "      <td>3</td>\n",
       "      <td>1</td>\n",
       "      <td>7</td>\n",
       "      <td>1</td>\n",
       "      <td>2</td>\n",
       "      <td>0</td>\n",
       "      <td>10</td>\n",
       "      <td>14</td>\n",
       "    </tr>\n",
       "    <tr>\n",
       "      <th>53</th>\n",
       "      <td>68.0</td>\n",
       "      <td>11601.5</td>\n",
       "      <td>41.0</td>\n",
       "      <td>35.0</td>\n",
       "      <td>0.0</td>\n",
       "      <td>712.25</td>\n",
       "      <td>0.0</td>\n",
       "      <td>223.0</td>\n",
       "      <td>1298.25</td>\n",
       "      <td>1391.25</td>\n",
       "      <td>...</td>\n",
       "      <td>0</td>\n",
       "      <td>1</td>\n",
       "      <td>0</td>\n",
       "      <td>1</td>\n",
       "      <td>5</td>\n",
       "      <td>1</td>\n",
       "      <td>3</td>\n",
       "      <td>0</td>\n",
       "      <td>11</td>\n",
       "      <td>16</td>\n",
       "    </tr>\n",
       "    <tr>\n",
       "      <th>350</th>\n",
       "      <td>68.0</td>\n",
       "      <td>7820.0</td>\n",
       "      <td>22.0</td>\n",
       "      <td>18.0</td>\n",
       "      <td>166.0</td>\n",
       "      <td>0.00</td>\n",
       "      <td>0.0</td>\n",
       "      <td>808.0</td>\n",
       "      <td>1298.25</td>\n",
       "      <td>1391.25</td>\n",
       "      <td>...</td>\n",
       "      <td>2</td>\n",
       "      <td>0</td>\n",
       "      <td>2</td>\n",
       "      <td>1</td>\n",
       "      <td>6</td>\n",
       "      <td>1</td>\n",
       "      <td>2</td>\n",
       "      <td>0</td>\n",
       "      <td>12</td>\n",
       "      <td>15</td>\n",
       "    </tr>\n",
       "    <tr>\n",
       "      <th>79</th>\n",
       "      <td>60.0</td>\n",
       "      <td>10440.0</td>\n",
       "      <td>68.0</td>\n",
       "      <td>41.0</td>\n",
       "      <td>0.0</td>\n",
       "      <td>0.00</td>\n",
       "      <td>0.0</td>\n",
       "      <td>440.0</td>\n",
       "      <td>795.75</td>\n",
       "      <td>882.00</td>\n",
       "      <td>...</td>\n",
       "      <td>1</td>\n",
       "      <td>1</td>\n",
       "      <td>2</td>\n",
       "      <td>1</td>\n",
       "      <td>5</td>\n",
       "      <td>0</td>\n",
       "      <td>2</td>\n",
       "      <td>0</td>\n",
       "      <td>5</td>\n",
       "      <td>13</td>\n",
       "    </tr>\n",
       "    <tr>\n",
       "      <th>792</th>\n",
       "      <td>80.0</td>\n",
       "      <td>9920.0</td>\n",
       "      <td>26.0</td>\n",
       "      <td>25.0</td>\n",
       "      <td>0.0</td>\n",
       "      <td>712.25</td>\n",
       "      <td>0.0</td>\n",
       "      <td>255.0</td>\n",
       "      <td>1117.00</td>\n",
       "      <td>1127.00</td>\n",
       "      <td>...</td>\n",
       "      <td>2</td>\n",
       "      <td>1</td>\n",
       "      <td>3</td>\n",
       "      <td>1</td>\n",
       "      <td>8</td>\n",
       "      <td>1</td>\n",
       "      <td>2</td>\n",
       "      <td>0</td>\n",
       "      <td>6</td>\n",
       "      <td>15</td>\n",
       "    </tr>\n",
       "  </tbody>\n",
       "</table>\n",
       "<p>1168 rows × 79 columns</p>\n",
       "</div>"
      ],
      "text/plain": [
       "      LotFrontage  LotArea  YearBuilt  YearRemodAdd  MasVnrArea  BsmtFinSF1  \\\n",
       "133           0.0   7553.5       22.0          20.0       136.0      712.25   \n",
       "290          80.0  11601.5       22.0          18.0         0.0        0.00   \n",
       "24            0.0   8246.0       54.0          21.0         0.0      188.00   \n",
       "1093         71.0   9230.0       57.0          24.0       166.0      661.00   \n",
       "1288         59.0   7553.5       22.0          22.0         0.0      712.25   \n",
       "...           ...      ...        ...           ...         ...         ...   \n",
       "802          63.0   8199.0       22.0          18.0         0.0      648.00   \n",
       "53           68.0  11601.5       41.0          35.0         0.0      712.25   \n",
       "350          68.0   7820.0       22.0          18.0       166.0        0.00   \n",
       "79           60.0  10440.0       68.0          41.0         0.0        0.00   \n",
       "792          80.0   9920.0       26.0          25.0         0.0      712.25   \n",
       "\n",
       "      BsmtFinSF2  BsmtUnfSF  TotalBsmtSF  1stFlrSF  ...  FullBath  HalfBath  \\\n",
       "133          0.0      262.0      1267.00   1296.00  ...         2         0   \n",
       "290          0.0      808.0      1079.00   1079.00  ...         2         1   \n",
       "24           0.0      223.0      1060.00   1060.00  ...         1         0   \n",
       "1093         0.0      223.0       864.00   1200.00  ...         1         1   \n",
       "1288         0.0      343.0      1298.25   1391.25  ...         2         0   \n",
       "...          ...        ...          ...       ...  ...       ...       ...   \n",
       "802          0.0      223.0       795.75    882.00  ...         2         1   \n",
       "53           0.0      223.0      1298.25   1391.25  ...         0         1   \n",
       "350          0.0      808.0      1298.25   1391.25  ...         2         0   \n",
       "79           0.0      440.0       795.75    882.00  ...         1         1   \n",
       "792          0.0      255.0      1117.00   1127.00  ...         2         1   \n",
       "\n",
       "      BedroomAbvGr  KitchenAbvGr  TotRmsAbvGrd  Fireplaces  GarageCars  \\\n",
       "133              2             1             6           0           2   \n",
       "290              3             1             8           1           2   \n",
       "24               3             1             6           1           1   \n",
       "1093             1             1             6           0           2   \n",
       "1288             2             1             5           1           2   \n",
       "...            ...           ...           ...         ...         ...   \n",
       "802              3             1             7           1           2   \n",
       "53               0             1             5           1           3   \n",
       "350              2             1             6           1           2   \n",
       "79               2             1             5           0           2   \n",
       "792              3             1             8           1           2   \n",
       "\n",
       "      PoolArea  MoSold  YrSold  \n",
       "133          0       6      13  \n",
       "290          0       7      16  \n",
       "24           0       5      12  \n",
       "1093         0      10      16  \n",
       "1288         0      10      13  \n",
       "...        ...     ...     ...  \n",
       "802          0      10      14  \n",
       "53           0      11      16  \n",
       "350          0      12      15  \n",
       "79           0       5      13  \n",
       "792          0       6      15  \n",
       "\n",
       "[1168 rows x 79 columns]"
      ]
     },
     "execution_count": 98,
     "metadata": {},
     "output_type": "execute_result"
    }
   ],
   "source": [
    "X_train"
   ]
  },
  {
   "cell_type": "code",
   "execution_count": null,
   "id": "d2cabb06",
   "metadata": {},
   "outputs": [],
   "source": []
  },
  {
   "cell_type": "markdown",
   "id": "04faeb30",
   "metadata": {},
   "source": [
    "# Modelling"
   ]
  },
  {
   "cell_type": "markdown",
   "id": "845bcedb",
   "metadata": {},
   "source": [
    "# Linear regression"
   ]
  },
  {
   "cell_type": "code",
   "execution_count": 99,
   "id": "a7c3b214",
   "metadata": {},
   "outputs": [
    {
     "data": {
      "text/plain": [
       "LinearRegression()"
      ]
     },
     "execution_count": 99,
     "metadata": {},
     "output_type": "execute_result"
    }
   ],
   "source": [
    "#Linear Regression\n",
    "#Create linear regression \n",
    "lm = linear_model.LinearRegression()\n",
    "\n",
    "#Train the model using the training sets\n",
    "lm.fit(X_train, y_train)\n",
    "\n",
    "# Make predictions using the testing set\n",
    "#y_pred = lm.predict(X_train)\n"
   ]
  },
  {
   "cell_type": "code",
   "execution_count": 100,
   "id": "209415b4",
   "metadata": {},
   "outputs": [
    {
     "name": "stdout",
     "output_type": "stream",
     "text": [
      "The accuracy of the Linear Regression is 0.811807003221045\n",
      "RMSE is:  0.03239958482198553\n"
     ]
    }
   ],
   "source": [
    "y_pred = lm.predict(X_test)\n",
    "print('The accuracy of the Linear Regression is',r2_score(y_test,y_pred))\n",
    "print ('RMSE is: ', mean_squared_error(y_test, y_pred))"
   ]
  },
  {
   "cell_type": "markdown",
   "id": "f89467f0",
   "metadata": {},
   "source": [
    "# Ridge Regression"
   ]
  },
  {
   "cell_type": "code",
   "execution_count": 101,
   "id": "3364dfa7",
   "metadata": {},
   "outputs": [
    {
     "name": "stdout",
     "output_type": "stream",
     "text": [
      "Fitting 5 folds for each of 28 candidates, totalling 140 fits\n"
     ]
    },
    {
     "data": {
      "text/plain": [
       "GridSearchCV(cv=5, estimator=Ridge(),\n",
       "             param_grid={'alpha': [0.0001, 0.001, 0.01, 0.05, 0.1, 0.2, 0.3,\n",
       "                                   0.4, 0.5, 0.6, 0.7, 0.8, 0.9, 1.0, 2.0, 3.0,\n",
       "                                   4.0, 5.0, 6.0, 7.0, 8.0, 9.0, 10.0, 20, 50,\n",
       "                                   100, 500, 1000]},\n",
       "             return_train_score=True, scoring='neg_mean_absolute_error',\n",
       "             verbose=1)"
      ]
     },
     "execution_count": 101,
     "metadata": {},
     "output_type": "execute_result"
    }
   ],
   "source": [
    "# list of alphas to tune - if value too high it will lead to underfitting, if it is too low, \n",
    "# it will not handle the overfitting\n",
    "params = {'alpha': [0.0001, 0.001, 0.01, 0.05, 0.1, \n",
    " 0.2, 0.3, 0.4, 0.5, 0.6, 0.7, 0.8, 0.9, 1.0, 2.0, 3.0, \n",
    " 4.0, 5.0, 6.0, 7.0, 8.0, 9.0, 10.0, 20, 50, 100, 500, 1000 ]}\n",
    "\n",
    "ridge = Ridge()\n",
    "\n",
    "# cross validation\n",
    "folds = 5\n",
    "model_cv = GridSearchCV(estimator = ridge, \n",
    "                        param_grid = params, \n",
    "                        scoring= 'neg_mean_absolute_error',  \n",
    "                        cv = folds, \n",
    "                        return_train_score=True,\n",
    "                        verbose = 1)            \n",
    "model_cv.fit(X_train, y_train) \n",
    "#https://scikit-learn.org/stable/modules/model_evaluation.html"
   ]
  },
  {
   "cell_type": "code",
   "execution_count": 102,
   "id": "a571d20e",
   "metadata": {},
   "outputs": [
    {
     "name": "stdout",
     "output_type": "stream",
     "text": [
      "Optimal value of Alpha is:  {'alpha': 50}\n"
     ]
    }
   ],
   "source": [
    "# Printing the best hyperparameter alpha\n",
    "print(\"Optimal value of Alpha is: \",model_cv.best_params_)\n",
    "ridge_alpha = list(model_cv.best_params_.values())[-1]"
   ]
  },
  {
   "cell_type": "code",
   "execution_count": 103,
   "id": "38954555",
   "metadata": {},
   "outputs": [
    {
     "name": "stdout",
     "output_type": "stream",
     "text": [
      "[-9.19400290e-05  1.37845028e-05 -1.22612495e-03 -1.26059324e-03\n",
      " -1.63882558e-05  1.04778612e-04  0.00000000e+00 -6.85541217e-06\n",
      "  2.62151372e-04  7.40262650e-05  5.89619657e-05  0.00000000e+00\n",
      "  2.68101222e-04 -9.88717710e-06  1.98175824e-05  1.04213303e-04\n",
      "  3.50270007e-04  0.00000000e+00  0.00000000e+00  0.00000000e+00\n",
      "  0.00000000e+00 -1.11921843e-02  8.84104957e-03  2.97292931e-02\n",
      " -7.55458533e-03  7.62638946e-03 -1.04444736e-03 -1.73683202e-05\n",
      "  3.17982969e-02  9.13688745e-04 -2.55878977e-03 -1.64737844e-02\n",
      " -5.83665077e-03 -1.37673343e-03  6.71970745e-03  2.05773297e-02\n",
      " -2.34036533e-04 -1.02173322e-03  2.44003286e-03 -8.86479447e-03\n",
      "  1.23309088e-02  1.32015185e-02 -1.37616969e-02  6.20862324e-03\n",
      " -7.40067558e-03 -2.75605260e-03 -4.01103946e-03 -9.99538419e-04\n",
      " -6.22379811e-03  4.38330445e-02  2.90249682e-03 -1.96970025e-02\n",
      "  1.86064716e-02 -1.10590444e-02 -1.22112931e-03 -9.48837587e-03\n",
      "  7.71194127e-03  5.49030746e-03  2.83330649e-02 -2.85288635e-02\n",
      "  2.93436103e-03 -1.12022321e-02 -5.16995663e-04  1.71832015e-02\n",
      " -3.43881382e-04  6.35322754e-02  3.99571456e-02  2.98671290e-02\n",
      "  3.27071218e-03  2.34134575e-02  2.27029107e-02 -1.91278645e-03\n",
      " -3.00936011e-02  1.90958060e-02  3.50973533e-02  3.85676256e-02\n",
      " -2.66619996e-04 -1.28595775e-03  8.98092901e-03]\n"
     ]
    }
   ],
   "source": [
    "#Fitting Ridge model for alpha = 10 and printing coefficients which have been penalised\n",
    "alpha = list(model_cv.best_params_.values())[-1]\n",
    "ridge = Ridge(alpha=alpha)\n",
    "\n",
    "ridge.fit(X_train, y_train)\n",
    "print(ridge.coef_)"
   ]
  },
  {
   "cell_type": "code",
   "execution_count": 104,
   "id": "b5229813",
   "metadata": {},
   "outputs": [
    {
     "name": "stdout",
     "output_type": "stream",
     "text": [
      "R-Square value for Train dataset:  0.8902726109073386\n",
      "R-Square value for Test dataset:  0.8768554645234838\n",
      "20.028215877566897\n",
      "6.190617675049514\n",
      "0.01714744510065659\n",
      "0.021200745462498335\n"
     ]
    }
   ],
   "source": [
    "# Lets calculate some metrics such as R2 score, RSS and RMSE\n",
    "y_pred_train = ridge.predict(X_train)\n",
    "y_pred_test = ridge.predict(X_test)\n",
    "\n",
    "metric2 = []\n",
    "r2_train_lr = r2_score(y_train, y_pred_train)\n",
    "print(\"R-Square value for Train dataset: \", r2_train_lr)\n",
    "metric2.append(r2_train_lr)\n",
    "\n",
    "r2_test_lr = r2_score(y_test, y_pred_test)\n",
    "print(\"R-Square value for Test dataset: \",r2_test_lr)\n",
    "metric2.append(r2_test_lr)\n",
    "\n",
    "rss1_lr = np.sum(np.square(y_train - y_pred_train))\n",
    "print(rss1_lr)\n",
    "metric2.append(rss1_lr)\n",
    "\n",
    "rss2_lr = np.sum(np.square(y_test - y_pred_test))\n",
    "print(rss2_lr)\n",
    "metric2.append(rss2_lr)\n",
    "\n",
    "mse_train_lr = mean_squared_error(y_train, y_pred_train)\n",
    "print(mse_train_lr)\n",
    "metric2.append(mse_train_lr**0.5)\n",
    "\n",
    "mse_test_lr = mean_squared_error(y_test, y_pred_test)\n",
    "print(mse_test_lr)\n",
    "metric2.append(mse_test_lr**0.5)"
   ]
  },
  {
   "cell_type": "code",
   "execution_count": null,
   "id": "f3a1f0d9",
   "metadata": {},
   "outputs": [],
   "source": []
  },
  {
   "cell_type": "code",
   "execution_count": null,
   "id": "f1497f3f",
   "metadata": {},
   "outputs": [],
   "source": []
  },
  {
   "cell_type": "code",
   "execution_count": null,
   "id": "3724d00d",
   "metadata": {},
   "outputs": [],
   "source": []
  },
  {
   "cell_type": "markdown",
   "id": "1f6cd629",
   "metadata": {},
   "source": [
    "# Lasso Regression"
   ]
  },
  {
   "cell_type": "code",
   "execution_count": 105,
   "id": "338eacca",
   "metadata": {},
   "outputs": [
    {
     "name": "stdout",
     "output_type": "stream",
     "text": [
      "Fitting 5 folds for each of 28 candidates, totalling 140 fits\n"
     ]
    },
    {
     "data": {
      "text/plain": [
       "GridSearchCV(cv=5, estimator=Lasso(),\n",
       "             param_grid={'alpha': [0.0001, 0.001, 0.01, 0.05, 0.1, 0.2, 0.3,\n",
       "                                   0.4, 0.5, 0.6, 0.7, 0.8, 0.9, 1.0, 2.0, 3.0,\n",
       "                                   4.0, 5.0, 6.0, 7.0, 8.0, 9.0, 10.0, 20, 50,\n",
       "                                   100, 500, 1000]},\n",
       "             return_train_score=True, scoring='neg_mean_absolute_error',\n",
       "             verbose=1)"
      ]
     },
     "execution_count": 105,
     "metadata": {},
     "output_type": "execute_result"
    }
   ],
   "source": [
    "# list of alphas to tune - if value too high it will lead to underfitting, if it is too low, \n",
    "# it will not handle the overfitting\n",
    "params = {'alpha': [0.0001, 0.001, 0.01, 0.05, 0.1, \n",
    " 0.2, 0.3, 0.4, 0.5, 0.6, 0.7, 0.8, 0.9, 1.0, 2.0, 3.0, \n",
    " 4.0, 5.0, 6.0, 7.0, 8.0, 9.0, 10.0, 20, 50, 100, 500, 1000 ]}\n",
    "\n",
    "lasso = Lasso()\n",
    "\n",
    "folds = 5\n",
    "\n",
    "# cross validation\n",
    "model_cv = GridSearchCV(estimator = lasso, \n",
    "                        param_grid = params, \n",
    "                        scoring= 'neg_mean_absolute_error', \n",
    "                        cv = folds, \n",
    "                        return_train_score=True,\n",
    "                        verbose = 1)            \n",
    "\n",
    "model_cv.fit(X_train, y_train) "
   ]
  },
  {
   "cell_type": "code",
   "execution_count": 106,
   "id": "6e9faec0",
   "metadata": {},
   "outputs": [
    {
     "name": "stdout",
     "output_type": "stream",
     "text": [
      "Optimal value of Alpha is:  {'alpha': 0.001}\n"
     ]
    }
   ],
   "source": [
    "# Printing the best hyperparameter alpha\n",
    "print(\"Optimal value of Alpha is: \",model_cv.best_params_)\n",
    "lasso_alpha = list(model_cv.best_params_.values())[-1]"
   ]
  },
  {
   "cell_type": "code",
   "execution_count": 107,
   "id": "92a2af9c",
   "metadata": {},
   "outputs": [
    {
     "data": {
      "text/plain": [
       "Lasso(alpha=0.001)"
      ]
     },
     "execution_count": 107,
     "metadata": {},
     "output_type": "execute_result"
    }
   ],
   "source": [
    "#Fitting Ridge model for alpha = 100 and printing coefficients which have been penalised\n",
    "\n",
    "alpha =list(model_cv.best_params_.values())[-1]\n",
    "\n",
    "lasso = Lasso(alpha=alpha)\n",
    "        \n",
    "lasso.fit(X_train, y_train) "
   ]
  },
  {
   "cell_type": "code",
   "execution_count": 108,
   "id": "10ac3624",
   "metadata": {},
   "outputs": [
    {
     "data": {
      "text/plain": [
       "array([-7.84528784e-05,  1.38452715e-05, -1.24494111e-03, -1.21761545e-03,\n",
       "       -2.80565634e-05,  1.01717809e-04,  0.00000000e+00, -1.23615418e-05,\n",
       "        2.62443112e-04,  6.96002347e-05,  5.30062299e-05,  0.00000000e+00,\n",
       "        2.67190921e-04, -5.32686227e-06, -4.90855271e-06,  1.05073333e-04,\n",
       "        3.70577353e-04,  0.00000000e+00,  0.00000000e+00,  0.00000000e+00,\n",
       "        0.00000000e+00, -1.02781746e-02,  0.00000000e+00,  3.54000748e-02,\n",
       "       -6.83053735e-03,  6.24664012e-03, -0.00000000e+00, -0.00000000e+00,\n",
       "        3.71193561e-02,  8.74760637e-04, -5.78482649e-04, -9.73851309e-03,\n",
       "       -3.87010566e-03, -6.97656125e-04,  5.31574083e-03,  1.96639428e-02,\n",
       "       -9.77232395e-05, -1.08702622e-03,  0.00000000e+00, -6.43436413e-03,\n",
       "        1.13696290e-02,  1.20489122e-02, -1.30316494e-02,  4.59967930e-03,\n",
       "       -6.24914847e-03, -2.39077982e-03, -2.84291176e-03,  0.00000000e+00,\n",
       "       -5.80828366e-03,  6.44377266e-02,  1.07267318e-03, -2.01893887e-02,\n",
       "        1.80030407e-02, -1.08487094e-02, -9.15653632e-04, -8.93459154e-03,\n",
       "        6.50897778e-03,  3.23974476e-03,  2.85283734e-02, -1.21757641e-01,\n",
       "        2.69921079e-03, -6.32011962e-03, -3.70198247e-04,  1.78217971e-02,\n",
       "       -3.68545688e-04,  6.63113590e-02,  4.02301899e-02,  3.23958860e-02,\n",
       "        0.00000000e+00,  2.28714905e-02,  2.10771475e-02, -0.00000000e+00,\n",
       "       -3.55236728e-02,  1.93023161e-02,  3.63303841e-02,  4.58314428e-02,\n",
       "       -6.41096467e-04, -1.17021336e-03,  8.11062485e-03])"
      ]
     },
     "execution_count": 108,
     "metadata": {},
     "output_type": "execute_result"
    }
   ],
   "source": [
    "lasso.coef_"
   ]
  },
  {
   "cell_type": "code",
   "execution_count": 109,
   "id": "9acb10d7",
   "metadata": {},
   "outputs": [
    {
     "name": "stdout",
     "output_type": "stream",
     "text": [
      "R-Square value for Train dataset:  0.8920304982202351\n",
      "R-Square value for Test dataset:  0.8725563102964339\n",
      "19.70735390425051\n",
      "6.406741111162634\n",
      "0.016872734507063794\n",
      "0.02194089421631039\n"
     ]
    }
   ],
   "source": [
    "# Lets calculate some metrics such as R2 score, RSS and RMSE\n",
    "\n",
    "y_pred_train = lasso.predict(X_train)\n",
    "y_pred_test = lasso.predict(X_test)\n",
    "\n",
    "metric3 = []\n",
    "r2_train_lr = r2_score(y_train, y_pred_train)\n",
    "print(\"R-Square value for Train dataset: \",r2_train_lr)\n",
    "metric3.append(r2_train_lr)\n",
    "\n",
    "r2_test_lr = r2_score(y_test, y_pred_test)\n",
    "print(\"R-Square value for Test dataset: \",r2_test_lr)\n",
    "metric3.append(r2_test_lr)\n",
    "\n",
    "rss1_lr = np.sum(np.square(y_train - y_pred_train))\n",
    "print(rss1_lr)\n",
    "metric3.append(rss1_lr)\n",
    "\n",
    "rss2_lr = np.sum(np.square(y_test - y_pred_test))\n",
    "print(rss2_lr)\n",
    "metric3.append(rss2_lr)\n",
    "\n",
    "mse_train_lr = mean_squared_error(y_train, y_pred_train)\n",
    "print(mse_train_lr)\n",
    "metric3.append(mse_train_lr**0.5)\n",
    "\n",
    "mse_test_lr = mean_squared_error(y_test, y_pred_test)\n",
    "print(mse_test_lr)\n",
    "metric3.append(mse_test_lr**0.5)"
   ]
  },
  {
   "cell_type": "markdown",
   "id": "f42d7df9",
   "metadata": {},
   "source": [
    "# Final Model Evaluation based on test dataset and conclusion"
   ]
  },
  {
   "cell_type": "code",
   "execution_count": 110,
   "id": "b69647c2",
   "metadata": {},
   "outputs": [],
   "source": [
    "# The r2_score of lasso is little higher than ridge for the train dataset \n",
    "# The r2_score of lasso is lesser than ridge for the test dataset\n",
    "# In Ridge, r2_score is almost same for train and test dataset\n",
    "# where as in Lasso, r2_score is less for test dataset when compared to train dataset. But difference is not very high"
   ]
  },
  {
   "cell_type": "code",
   "execution_count": 111,
   "id": "6786ed81",
   "metadata": {},
   "outputs": [
    {
     "data": {
      "image/png": "[encoded data removed]",
      "text/plain": [
       "<Figure size 420x280 with 1 Axes>"
      ]
     },
     "metadata": {
      "needs_background": "light"
     },
     "output_type": "display_data"
    }
   ],
   "source": [
    "# plot graph to understand spread of data points for ridge regression\n",
    "ridgepred = ridge.predict(X_test)\n",
    "fig = plt.figure(dpi=70)\n",
    "plt.scatter(y_test,ridgepred)\n",
    "fig.suptitle('y_test vs ridgepred', fontsize=25)              \n",
    "plt.xlabel('y_test', fontsize=20)                         \n",
    "plt.ylabel('ridgepred', fontsize=20)  \n",
    "plt.show()"
   ]
  },
  {
   "cell_type": "code",
   "execution_count": 112,
   "id": "c48c9308",
   "metadata": {},
   "outputs": [
    {
     "data": {
      "image/png": "[encoded data removed]",
      "text/plain": [
       "<Figure size 432x288 with 1 Axes>"
      ]
     },
     "metadata": {
      "needs_background": "light"
     },
     "output_type": "display_data"
    }
   ],
   "source": [
    "#checking the distribution of residuals\n",
    "y_res=y_test-ridgepred\n",
    "sns.distplot(y_res,kde=True)\n",
    "plt.title('Distribution of residuals')\n",
    "plt.xlabel(\"Residuals\")\n",
    "plt.show()"
   ]
  },
  {
   "cell_type": "code",
   "execution_count": 113,
   "id": "4956c82b",
   "metadata": {},
   "outputs": [],
   "source": [
    "lassopred = lasso.predict(X_test)"
   ]
  },
  {
   "cell_type": "code",
   "execution_count": 114,
   "id": "b575ac46",
   "metadata": {},
   "outputs": [
    {
     "data": {
      "image/png": "[encoded data removed]",
      "text/plain": [
       "<Figure size 420x280 with 1 Axes>"
      ]
     },
     "metadata": {
      "needs_background": "light"
     },
     "output_type": "display_data"
    }
   ],
   "source": [
    "fig = plt.figure(dpi=70)\n",
    "plt.scatter(y_test,lassopred)\n",
    "fig.suptitle('y_test vs lassopred', fontsize=25)              \n",
    "plt.xlabel('y_test', fontsize=20)                         \n",
    "plt.ylabel('lassopred', fontsize=20)  \n",
    "plt.show()"
   ]
  },
  {
   "cell_type": "code",
   "execution_count": 115,
   "id": "264f393a",
   "metadata": {},
   "outputs": [
    {
     "data": {
      "image/png": "[encoded data removed]",
      "text/plain": [
       "<Figure size 432x288 with 1 Axes>"
      ]
     },
     "metadata": {
      "needs_background": "light"
     },
     "output_type": "display_data"
    }
   ],
   "source": [
    "#checking the distribution of residuals\n",
    "y_res=y_test-lassopred\n",
    "sns.distplot(y_res,kde=True)\n",
    "plt.title('Distribution of residuals')\n",
    "plt.xlabel(\"Residuals\")\n",
    "plt.show()"
   ]
  },
  {
   "cell_type": "markdown",
   "id": "ab2c8869",
   "metadata": {},
   "source": [
    "# Below are the signicant variables to predict price of  a house"
   ]
  },
  {
   "cell_type": "code",
   "execution_count": 116,
   "id": "e58ad6bb",
   "metadata": {},
   "outputs": [],
   "source": [
    "Predictvars = pd.DataFrame(index=X_train.columns)"
   ]
  },
  {
   "cell_type": "code",
   "execution_count": 117,
   "id": "74a7604e",
   "metadata": {},
   "outputs": [],
   "source": [
    "Predictvars.rows = X_train.columns"
   ]
  },
  {
   "cell_type": "code",
   "execution_count": 118,
   "id": "a130f5e2",
   "metadata": {},
   "outputs": [],
   "source": [
    "Predictvars['Ridge'] = ridge.coef_\n",
    "Predictvars['Lasso'] = lasso.coef_"
   ]
  },
  {
   "cell_type": "code",
   "execution_count": 119,
   "id": "d5198bef",
   "metadata": {},
   "outputs": [
    {
     "data": {
      "text/html": [
       "<div>\n",
       "<style scoped>\n",
       "    .dataframe tbody tr th:only-of-type {\n",
       "        vertical-align: middle;\n",
       "    }\n",
       "\n",
       "    .dataframe tbody tr th {\n",
       "        vertical-align: top;\n",
       "    }\n",
       "\n",
       "    .dataframe thead th {\n",
       "        text-align: right;\n",
       "    }\n",
       "</style>\n",
       "<table border=\"1\" class=\"dataframe\">\n",
       "  <thead>\n",
       "    <tr style=\"text-align: right;\">\n",
       "      <th></th>\n",
       "      <th>Ridge</th>\n",
       "      <th>Lasso</th>\n",
       "    </tr>\n",
       "  </thead>\n",
       "  <tbody>\n",
       "    <tr>\n",
       "      <th>LotFrontage</th>\n",
       "      <td>-0.000092</td>\n",
       "      <td>-0.000078</td>\n",
       "    </tr>\n",
       "    <tr>\n",
       "      <th>LotArea</th>\n",
       "      <td>0.000014</td>\n",
       "      <td>0.000014</td>\n",
       "    </tr>\n",
       "    <tr>\n",
       "      <th>YearBuilt</th>\n",
       "      <td>-0.001226</td>\n",
       "      <td>-0.001245</td>\n",
       "    </tr>\n",
       "    <tr>\n",
       "      <th>YearRemodAdd</th>\n",
       "      <td>-0.001261</td>\n",
       "      <td>-0.001218</td>\n",
       "    </tr>\n",
       "    <tr>\n",
       "      <th>MasVnrArea</th>\n",
       "      <td>-0.000016</td>\n",
       "      <td>-0.000028</td>\n",
       "    </tr>\n",
       "    <tr>\n",
       "      <th>BsmtFinSF1</th>\n",
       "      <td>0.000105</td>\n",
       "      <td>0.000102</td>\n",
       "    </tr>\n",
       "    <tr>\n",
       "      <th>BsmtFinSF2</th>\n",
       "      <td>0.000000</td>\n",
       "      <td>0.000000</td>\n",
       "    </tr>\n",
       "    <tr>\n",
       "      <th>BsmtUnfSF</th>\n",
       "      <td>-0.000007</td>\n",
       "      <td>-0.000012</td>\n",
       "    </tr>\n",
       "    <tr>\n",
       "      <th>TotalBsmtSF</th>\n",
       "      <td>0.000262</td>\n",
       "      <td>0.000262</td>\n",
       "    </tr>\n",
       "    <tr>\n",
       "      <th>1stFlrSF</th>\n",
       "      <td>0.000074</td>\n",
       "      <td>0.000070</td>\n",
       "    </tr>\n",
       "    <tr>\n",
       "      <th>2ndFlrSF</th>\n",
       "      <td>0.000059</td>\n",
       "      <td>0.000053</td>\n",
       "    </tr>\n",
       "    <tr>\n",
       "      <th>LowQualFinSF</th>\n",
       "      <td>0.000000</td>\n",
       "      <td>0.000000</td>\n",
       "    </tr>\n",
       "    <tr>\n",
       "      <th>GrLivArea</th>\n",
       "      <td>0.000268</td>\n",
       "      <td>0.000267</td>\n",
       "    </tr>\n",
       "    <tr>\n",
       "      <th>GarageYrBlt</th>\n",
       "      <td>-0.000010</td>\n",
       "      <td>-0.000005</td>\n",
       "    </tr>\n",
       "    <tr>\n",
       "      <th>GarageArea</th>\n",
       "      <td>0.000020</td>\n",
       "      <td>-0.000005</td>\n",
       "    </tr>\n",
       "    <tr>\n",
       "      <th>WoodDeckSF</th>\n",
       "      <td>0.000104</td>\n",
       "      <td>0.000105</td>\n",
       "    </tr>\n",
       "    <tr>\n",
       "      <th>OpenPorchSF</th>\n",
       "      <td>0.000350</td>\n",
       "      <td>0.000371</td>\n",
       "    </tr>\n",
       "    <tr>\n",
       "      <th>EnclosedPorch</th>\n",
       "      <td>0.000000</td>\n",
       "      <td>0.000000</td>\n",
       "    </tr>\n",
       "    <tr>\n",
       "      <th>3SsnPorch</th>\n",
       "      <td>0.000000</td>\n",
       "      <td>0.000000</td>\n",
       "    </tr>\n",
       "    <tr>\n",
       "      <th>ScreenPorch</th>\n",
       "      <td>0.000000</td>\n",
       "      <td>0.000000</td>\n",
       "    </tr>\n",
       "    <tr>\n",
       "      <th>MiscVal</th>\n",
       "      <td>0.000000</td>\n",
       "      <td>0.000000</td>\n",
       "    </tr>\n",
       "    <tr>\n",
       "      <th>MSZoning</th>\n",
       "      <td>-0.011192</td>\n",
       "      <td>-0.010278</td>\n",
       "    </tr>\n",
       "    <tr>\n",
       "      <th>Street</th>\n",
       "      <td>0.008841</td>\n",
       "      <td>0.000000</td>\n",
       "    </tr>\n",
       "    <tr>\n",
       "      <th>Alley</th>\n",
       "      <td>0.029729</td>\n",
       "      <td>0.035400</td>\n",
       "    </tr>\n",
       "    <tr>\n",
       "      <th>LotShape</th>\n",
       "      <td>-0.007555</td>\n",
       "      <td>-0.006831</td>\n",
       "    </tr>\n",
       "    <tr>\n",
       "      <th>LandContour</th>\n",
       "      <td>0.007626</td>\n",
       "      <td>0.006247</td>\n",
       "    </tr>\n",
       "    <tr>\n",
       "      <th>Utilities</th>\n",
       "      <td>-0.001044</td>\n",
       "      <td>-0.000000</td>\n",
       "    </tr>\n",
       "    <tr>\n",
       "      <th>LotConfig</th>\n",
       "      <td>-0.000017</td>\n",
       "      <td>-0.000000</td>\n",
       "    </tr>\n",
       "    <tr>\n",
       "      <th>LandSlope</th>\n",
       "      <td>0.031798</td>\n",
       "      <td>0.037119</td>\n",
       "    </tr>\n",
       "    <tr>\n",
       "      <th>Neighborhood</th>\n",
       "      <td>0.000914</td>\n",
       "      <td>0.000875</td>\n",
       "    </tr>\n",
       "    <tr>\n",
       "      <th>Condition1</th>\n",
       "      <td>-0.002559</td>\n",
       "      <td>-0.000578</td>\n",
       "    </tr>\n",
       "    <tr>\n",
       "      <th>Condition2</th>\n",
       "      <td>-0.016474</td>\n",
       "      <td>-0.009739</td>\n",
       "    </tr>\n",
       "    <tr>\n",
       "      <th>BldgType</th>\n",
       "      <td>-0.005837</td>\n",
       "      <td>-0.003870</td>\n",
       "    </tr>\n",
       "    <tr>\n",
       "      <th>HouseStyle</th>\n",
       "      <td>-0.001377</td>\n",
       "      <td>-0.000698</td>\n",
       "    </tr>\n",
       "    <tr>\n",
       "      <th>RoofStyle</th>\n",
       "      <td>0.006720</td>\n",
       "      <td>0.005316</td>\n",
       "    </tr>\n",
       "    <tr>\n",
       "      <th>RoofMatl</th>\n",
       "      <td>0.020577</td>\n",
       "      <td>0.019664</td>\n",
       "    </tr>\n",
       "    <tr>\n",
       "      <th>Exterior1st</th>\n",
       "      <td>-0.000234</td>\n",
       "      <td>-0.000098</td>\n",
       "    </tr>\n",
       "    <tr>\n",
       "      <th>Exterior2nd</th>\n",
       "      <td>-0.001022</td>\n",
       "      <td>-0.001087</td>\n",
       "    </tr>\n",
       "    <tr>\n",
       "      <th>MasVnrType</th>\n",
       "      <td>0.002440</td>\n",
       "      <td>0.000000</td>\n",
       "    </tr>\n",
       "    <tr>\n",
       "      <th>ExterQual</th>\n",
       "      <td>-0.008865</td>\n",
       "      <td>-0.006434</td>\n",
       "    </tr>\n",
       "    <tr>\n",
       "      <th>ExterCond</th>\n",
       "      <td>0.012331</td>\n",
       "      <td>0.011370</td>\n",
       "    </tr>\n",
       "    <tr>\n",
       "      <th>Foundation</th>\n",
       "      <td>0.013202</td>\n",
       "      <td>0.012049</td>\n",
       "    </tr>\n",
       "    <tr>\n",
       "      <th>BsmtQual</th>\n",
       "      <td>-0.013762</td>\n",
       "      <td>-0.013032</td>\n",
       "    </tr>\n",
       "    <tr>\n",
       "      <th>BsmtCond</th>\n",
       "      <td>0.006209</td>\n",
       "      <td>0.004600</td>\n",
       "    </tr>\n",
       "    <tr>\n",
       "      <th>BsmtExposure</th>\n",
       "      <td>-0.007401</td>\n",
       "      <td>-0.006249</td>\n",
       "    </tr>\n",
       "    <tr>\n",
       "      <th>BsmtFinType1</th>\n",
       "      <td>-0.002756</td>\n",
       "      <td>-0.002391</td>\n",
       "    </tr>\n",
       "    <tr>\n",
       "      <th>BsmtFinType2</th>\n",
       "      <td>-0.004011</td>\n",
       "      <td>-0.002843</td>\n",
       "    </tr>\n",
       "    <tr>\n",
       "      <th>Heating</th>\n",
       "      <td>-0.001000</td>\n",
       "      <td>0.000000</td>\n",
       "    </tr>\n",
       "    <tr>\n",
       "      <th>HeatingQC</th>\n",
       "      <td>-0.006224</td>\n",
       "      <td>-0.005808</td>\n",
       "    </tr>\n",
       "    <tr>\n",
       "      <th>CentralAir</th>\n",
       "      <td>0.043833</td>\n",
       "      <td>0.064438</td>\n",
       "    </tr>\n",
       "  </tbody>\n",
       "</table>\n",
       "</div>"
      ],
      "text/plain": [
       "                  Ridge     Lasso\n",
       "LotFrontage   -0.000092 -0.000078\n",
       "LotArea        0.000014  0.000014\n",
       "YearBuilt     -0.001226 -0.001245\n",
       "YearRemodAdd  -0.001261 -0.001218\n",
       "MasVnrArea    -0.000016 -0.000028\n",
       "BsmtFinSF1     0.000105  0.000102\n",
       "BsmtFinSF2     0.000000  0.000000\n",
       "BsmtUnfSF     -0.000007 -0.000012\n",
       "TotalBsmtSF    0.000262  0.000262\n",
       "1stFlrSF       0.000074  0.000070\n",
       "2ndFlrSF       0.000059  0.000053\n",
       "LowQualFinSF   0.000000  0.000000\n",
       "GrLivArea      0.000268  0.000267\n",
       "GarageYrBlt   -0.000010 -0.000005\n",
       "GarageArea     0.000020 -0.000005\n",
       "WoodDeckSF     0.000104  0.000105\n",
       "OpenPorchSF    0.000350  0.000371\n",
       "EnclosedPorch  0.000000  0.000000\n",
       "3SsnPorch      0.000000  0.000000\n",
       "ScreenPorch    0.000000  0.000000\n",
       "MiscVal        0.000000  0.000000\n",
       "MSZoning      -0.011192 -0.010278\n",
       "Street         0.008841  0.000000\n",
       "Alley          0.029729  0.035400\n",
       "LotShape      -0.007555 -0.006831\n",
       "LandContour    0.007626  0.006247\n",
       "Utilities     -0.001044 -0.000000\n",
       "LotConfig     -0.000017 -0.000000\n",
       "LandSlope      0.031798  0.037119\n",
       "Neighborhood   0.000914  0.000875\n",
       "Condition1    -0.002559 -0.000578\n",
       "Condition2    -0.016474 -0.009739\n",
       "BldgType      -0.005837 -0.003870\n",
       "HouseStyle    -0.001377 -0.000698\n",
       "RoofStyle      0.006720  0.005316\n",
       "RoofMatl       0.020577  0.019664\n",
       "Exterior1st   -0.000234 -0.000098\n",
       "Exterior2nd   -0.001022 -0.001087\n",
       "MasVnrType     0.002440  0.000000\n",
       "ExterQual     -0.008865 -0.006434\n",
       "ExterCond      0.012331  0.011370\n",
       "Foundation     0.013202  0.012049\n",
       "BsmtQual      -0.013762 -0.013032\n",
       "BsmtCond       0.006209  0.004600\n",
       "BsmtExposure  -0.007401 -0.006249\n",
       "BsmtFinType1  -0.002756 -0.002391\n",
       "BsmtFinType2  -0.004011 -0.002843\n",
       "Heating       -0.001000  0.000000\n",
       "HeatingQC     -0.006224 -0.005808\n",
       "CentralAir     0.043833  0.064438"
      ]
     },
     "execution_count": 119,
     "metadata": {},
     "output_type": "execute_result"
    }
   ],
   "source": [
    "pd.set_option('display.max_rows', None)\n",
    "Predictvars.head(50)"
   ]
  },
  {
   "cell_type": "code",
   "execution_count": null,
   "id": "98ccc02a",
   "metadata": {},
   "outputs": [],
   "source": []
  },
  {
   "cell_type": "code",
   "execution_count": null,
   "id": "4f712884",
   "metadata": {},
   "outputs": [],
   "source": []
  },
  {
   "cell_type": "markdown",
   "id": "73011849",
   "metadata": {},
   "source": [
    "# Code created to provide answers for questions listed in Problem Statement-2"
   ]
  },
  {
   "cell_type": "markdown",
   "id": "ced21068",
   "metadata": {},
   "source": [
    "# Q1"
   ]
  },
  {
   "cell_type": "code",
   "execution_count": 120,
   "id": "6c0a5460",
   "metadata": {},
   "outputs": [
    {
     "data": {
      "text/plain": [
       "Ridge(alpha=100)"
      ]
     },
     "execution_count": 120,
     "metadata": {},
     "output_type": "execute_result"
    }
   ],
   "source": [
    "#Ridge\n",
    "alpha = np.add(ridge_alpha,ridge_alpha)\n",
    "ridge = Ridge(alpha=alpha)\n",
    "\n",
    "ridge.fit(X_train, y_train)"
   ]
  },
  {
   "cell_type": "code",
   "execution_count": 121,
   "id": "533e1880",
   "metadata": {},
   "outputs": [
    {
     "name": "stdout",
     "output_type": "stream",
     "text": [
      "R-Square value for Train dataset:  0.8880723098606176\n",
      "R-Square value for Test dataset:  0.8755126366228568\n"
     ]
    }
   ],
   "source": [
    "y_pred_train = ridge.predict(X_train)\n",
    "y_pred_test = ridge.predict(X_test)\n",
    "\n",
    "r2_train_lr = r2_score(y_train, y_pred_train)\n",
    "print(\"R-Square value for Train dataset: \", r2_train_lr)\n",
    "\n",
    "r2_test_lr = r2_score(y_test, y_pred_test)\n",
    "print(\"R-Square value for Test dataset: \",r2_test_lr)\n"
   ]
  },
  {
   "cell_type": "code",
   "execution_count": null,
   "id": "ea59fb00",
   "metadata": {},
   "outputs": [],
   "source": []
  },
  {
   "cell_type": "code",
   "execution_count": 122,
   "id": "7387a3f5",
   "metadata": {},
   "outputs": [
    {
     "data": {
      "text/plain": [
       "Lasso(alpha=0.002)"
      ]
     },
     "execution_count": 122,
     "metadata": {},
     "output_type": "execute_result"
    }
   ],
   "source": [
    "#Lasso\n",
    "alpha =np.add(lasso_alpha,lasso_alpha)\n",
    "\n",
    "lasso = Lasso(alpha=alpha)\n",
    "        \n",
    "lasso.fit(X_train, y_train) "
   ]
  },
  {
   "cell_type": "code",
   "execution_count": 123,
   "id": "2cc68b29",
   "metadata": {},
   "outputs": [
    {
     "data": {
      "text/plain": [
       "array([-9.09009320e-05,  1.49272162e-05, -1.65054232e-03, -1.35907186e-03,\n",
       "       -2.37772811e-05,  1.11321564e-04,  0.00000000e+00, -1.54754773e-05,\n",
       "        2.81432427e-04,  7.32319827e-05,  7.99753595e-05,  0.00000000e+00,\n",
       "        2.74012538e-04, -1.42216375e-05,  3.61534510e-05,  1.13064056e-04,\n",
       "        3.80433151e-04,  0.00000000e+00,  0.00000000e+00,  0.00000000e+00,\n",
       "        0.00000000e+00, -9.72130397e-03,  0.00000000e+00,  2.10195822e-02,\n",
       "       -6.26869104e-03,  1.88636199e-03, -0.00000000e+00, -0.00000000e+00,\n",
       "        2.15617381e-02,  8.08113302e-04, -0.00000000e+00, -0.00000000e+00,\n",
       "       -0.00000000e+00,  0.00000000e+00,  3.58117066e-03,  1.76690843e-02,\n",
       "       -0.00000000e+00, -1.28423354e-03,  0.00000000e+00, -4.37139015e-03,\n",
       "        8.38455043e-03,  8.04260320e-03, -1.26927404e-02,  4.50977145e-03,\n",
       "       -6.51522134e-03, -2.71774616e-03, -2.71546740e-03,  0.00000000e+00,\n",
       "       -5.85693635e-03,  4.78034029e-02,  1.63725708e-03, -1.89856930e-02,\n",
       "        1.66918987e-02, -1.02070645e-02, -7.22742498e-04, -9.59632797e-03,\n",
       "        6.88938897e-03,  2.45596332e-03,  2.63247899e-02, -0.00000000e+00,\n",
       "        9.84451358e-04, -0.00000000e+00, -0.00000000e+00,  1.62514246e-02,\n",
       "       -5.19237537e-04,  6.83761468e-02,  3.88513948e-02,  2.24896137e-02,\n",
       "        0.00000000e+00,  6.95479380e-03,  1.02485852e-02, -0.00000000e+00,\n",
       "       -1.43673933e-03,  1.65166057e-02,  3.68450928e-02,  3.70035948e-02,\n",
       "       -1.47679716e-04, -1.11884883e-03,  7.67085889e-03])"
      ]
     },
     "execution_count": 123,
     "metadata": {},
     "output_type": "execute_result"
    }
   ],
   "source": [
    "lasso.coef_"
   ]
  },
  {
   "cell_type": "code",
   "execution_count": 124,
   "id": "b8fb0a26",
   "metadata": {},
   "outputs": [
    {
     "name": "stdout",
     "output_type": "stream",
     "text": [
      "R-Square value for Train dataset:  0.8869453265324618\n",
      "R-Square value for Test dataset:  0.8783393628989038\n"
     ]
    }
   ],
   "source": [
    "y_pred_train = lasso.predict(X_train)\n",
    "y_pred_test = lasso.predict(X_test)\n",
    "\n",
    "r2_train_lr = r2_score(y_train, y_pred_train)\n",
    "print(\"R-Square value for Train dataset: \",r2_train_lr)\n",
    "\n",
    "r2_test_lr = r2_score(y_test, y_pred_test)\n",
    "print(\"R-Square value for Test dataset: \",r2_test_lr)"
   ]
  },
  {
   "cell_type": "code",
   "execution_count": 125,
   "id": "9a93991b",
   "metadata": {},
   "outputs": [
    {
     "data": {
      "text/html": [
       "<div>\n",
       "<style scoped>\n",
       "    .dataframe tbody tr th:only-of-type {\n",
       "        vertical-align: middle;\n",
       "    }\n",
       "\n",
       "    .dataframe tbody tr th {\n",
       "        vertical-align: top;\n",
       "    }\n",
       "\n",
       "    .dataframe thead th {\n",
       "        text-align: right;\n",
       "    }\n",
       "</style>\n",
       "<table border=\"1\" class=\"dataframe\">\n",
       "  <thead>\n",
       "    <tr style=\"text-align: right;\">\n",
       "      <th></th>\n",
       "      <th>Lasso</th>\n",
       "    </tr>\n",
       "  </thead>\n",
       "  <tbody>\n",
       "    <tr>\n",
       "      <th>LotFrontage</th>\n",
       "      <td>-0.000091</td>\n",
       "    </tr>\n",
       "    <tr>\n",
       "      <th>LotArea</th>\n",
       "      <td>0.000015</td>\n",
       "    </tr>\n",
       "    <tr>\n",
       "      <th>YearBuilt</th>\n",
       "      <td>-0.001651</td>\n",
       "    </tr>\n",
       "    <tr>\n",
       "      <th>YearRemodAdd</th>\n",
       "      <td>-0.001359</td>\n",
       "    </tr>\n",
       "    <tr>\n",
       "      <th>MasVnrArea</th>\n",
       "      <td>-0.000024</td>\n",
       "    </tr>\n",
       "    <tr>\n",
       "      <th>BsmtFinSF1</th>\n",
       "      <td>0.000111</td>\n",
       "    </tr>\n",
       "    <tr>\n",
       "      <th>BsmtFinSF2</th>\n",
       "      <td>0.000000</td>\n",
       "    </tr>\n",
       "    <tr>\n",
       "      <th>BsmtUnfSF</th>\n",
       "      <td>-0.000015</td>\n",
       "    </tr>\n",
       "    <tr>\n",
       "      <th>TotalBsmtSF</th>\n",
       "      <td>0.000281</td>\n",
       "    </tr>\n",
       "    <tr>\n",
       "      <th>1stFlrSF</th>\n",
       "      <td>0.000073</td>\n",
       "    </tr>\n",
       "    <tr>\n",
       "      <th>2ndFlrSF</th>\n",
       "      <td>0.000080</td>\n",
       "    </tr>\n",
       "    <tr>\n",
       "      <th>LowQualFinSF</th>\n",
       "      <td>0.000000</td>\n",
       "    </tr>\n",
       "    <tr>\n",
       "      <th>GrLivArea</th>\n",
       "      <td>0.000274</td>\n",
       "    </tr>\n",
       "    <tr>\n",
       "      <th>GarageYrBlt</th>\n",
       "      <td>-0.000014</td>\n",
       "    </tr>\n",
       "    <tr>\n",
       "      <th>GarageArea</th>\n",
       "      <td>0.000036</td>\n",
       "    </tr>\n",
       "    <tr>\n",
       "      <th>WoodDeckSF</th>\n",
       "      <td>0.000113</td>\n",
       "    </tr>\n",
       "    <tr>\n",
       "      <th>OpenPorchSF</th>\n",
       "      <td>0.000380</td>\n",
       "    </tr>\n",
       "    <tr>\n",
       "      <th>EnclosedPorch</th>\n",
       "      <td>0.000000</td>\n",
       "    </tr>\n",
       "    <tr>\n",
       "      <th>3SsnPorch</th>\n",
       "      <td>0.000000</td>\n",
       "    </tr>\n",
       "    <tr>\n",
       "      <th>ScreenPorch</th>\n",
       "      <td>0.000000</td>\n",
       "    </tr>\n",
       "    <tr>\n",
       "      <th>MiscVal</th>\n",
       "      <td>0.000000</td>\n",
       "    </tr>\n",
       "    <tr>\n",
       "      <th>MSZoning</th>\n",
       "      <td>-0.009721</td>\n",
       "    </tr>\n",
       "    <tr>\n",
       "      <th>Street</th>\n",
       "      <td>0.000000</td>\n",
       "    </tr>\n",
       "    <tr>\n",
       "      <th>Alley</th>\n",
       "      <td>0.021020</td>\n",
       "    </tr>\n",
       "    <tr>\n",
       "      <th>LotShape</th>\n",
       "      <td>-0.006269</td>\n",
       "    </tr>\n",
       "    <tr>\n",
       "      <th>LandContour</th>\n",
       "      <td>0.001886</td>\n",
       "    </tr>\n",
       "    <tr>\n",
       "      <th>Utilities</th>\n",
       "      <td>-0.000000</td>\n",
       "    </tr>\n",
       "    <tr>\n",
       "      <th>LotConfig</th>\n",
       "      <td>-0.000000</td>\n",
       "    </tr>\n",
       "    <tr>\n",
       "      <th>LandSlope</th>\n",
       "      <td>0.021562</td>\n",
       "    </tr>\n",
       "    <tr>\n",
       "      <th>Neighborhood</th>\n",
       "      <td>0.000808</td>\n",
       "    </tr>\n",
       "    <tr>\n",
       "      <th>Condition1</th>\n",
       "      <td>-0.000000</td>\n",
       "    </tr>\n",
       "    <tr>\n",
       "      <th>Condition2</th>\n",
       "      <td>-0.000000</td>\n",
       "    </tr>\n",
       "    <tr>\n",
       "      <th>BldgType</th>\n",
       "      <td>-0.000000</td>\n",
       "    </tr>\n",
       "    <tr>\n",
       "      <th>HouseStyle</th>\n",
       "      <td>0.000000</td>\n",
       "    </tr>\n",
       "    <tr>\n",
       "      <th>RoofStyle</th>\n",
       "      <td>0.003581</td>\n",
       "    </tr>\n",
       "    <tr>\n",
       "      <th>RoofMatl</th>\n",
       "      <td>0.017669</td>\n",
       "    </tr>\n",
       "    <tr>\n",
       "      <th>Exterior1st</th>\n",
       "      <td>-0.000000</td>\n",
       "    </tr>\n",
       "    <tr>\n",
       "      <th>Exterior2nd</th>\n",
       "      <td>-0.001284</td>\n",
       "    </tr>\n",
       "    <tr>\n",
       "      <th>MasVnrType</th>\n",
       "      <td>0.000000</td>\n",
       "    </tr>\n",
       "    <tr>\n",
       "      <th>ExterQual</th>\n",
       "      <td>-0.004371</td>\n",
       "    </tr>\n",
       "    <tr>\n",
       "      <th>ExterCond</th>\n",
       "      <td>0.008385</td>\n",
       "    </tr>\n",
       "    <tr>\n",
       "      <th>Foundation</th>\n",
       "      <td>0.008043</td>\n",
       "    </tr>\n",
       "    <tr>\n",
       "      <th>BsmtQual</th>\n",
       "      <td>-0.012693</td>\n",
       "    </tr>\n",
       "    <tr>\n",
       "      <th>BsmtCond</th>\n",
       "      <td>0.004510</td>\n",
       "    </tr>\n",
       "    <tr>\n",
       "      <th>BsmtExposure</th>\n",
       "      <td>-0.006515</td>\n",
       "    </tr>\n",
       "    <tr>\n",
       "      <th>BsmtFinType1</th>\n",
       "      <td>-0.002718</td>\n",
       "    </tr>\n",
       "    <tr>\n",
       "      <th>BsmtFinType2</th>\n",
       "      <td>-0.002715</td>\n",
       "    </tr>\n",
       "    <tr>\n",
       "      <th>Heating</th>\n",
       "      <td>0.000000</td>\n",
       "    </tr>\n",
       "    <tr>\n",
       "      <th>HeatingQC</th>\n",
       "      <td>-0.005857</td>\n",
       "    </tr>\n",
       "    <tr>\n",
       "      <th>CentralAir</th>\n",
       "      <td>0.047803</td>\n",
       "    </tr>\n",
       "  </tbody>\n",
       "</table>\n",
       "</div>"
      ],
      "text/plain": [
       "                  Lasso\n",
       "LotFrontage   -0.000091\n",
       "LotArea        0.000015\n",
       "YearBuilt     -0.001651\n",
       "YearRemodAdd  -0.001359\n",
       "MasVnrArea    -0.000024\n",
       "BsmtFinSF1     0.000111\n",
       "BsmtFinSF2     0.000000\n",
       "BsmtUnfSF     -0.000015\n",
       "TotalBsmtSF    0.000281\n",
       "1stFlrSF       0.000073\n",
       "2ndFlrSF       0.000080\n",
       "LowQualFinSF   0.000000\n",
       "GrLivArea      0.000274\n",
       "GarageYrBlt   -0.000014\n",
       "GarageArea     0.000036\n",
       "WoodDeckSF     0.000113\n",
       "OpenPorchSF    0.000380\n",
       "EnclosedPorch  0.000000\n",
       "3SsnPorch      0.000000\n",
       "ScreenPorch    0.000000\n",
       "MiscVal        0.000000\n",
       "MSZoning      -0.009721\n",
       "Street         0.000000\n",
       "Alley          0.021020\n",
       "LotShape      -0.006269\n",
       "LandContour    0.001886\n",
       "Utilities     -0.000000\n",
       "LotConfig     -0.000000\n",
       "LandSlope      0.021562\n",
       "Neighborhood   0.000808\n",
       "Condition1    -0.000000\n",
       "Condition2    -0.000000\n",
       "BldgType      -0.000000\n",
       "HouseStyle     0.000000\n",
       "RoofStyle      0.003581\n",
       "RoofMatl       0.017669\n",
       "Exterior1st   -0.000000\n",
       "Exterior2nd   -0.001284\n",
       "MasVnrType     0.000000\n",
       "ExterQual     -0.004371\n",
       "ExterCond      0.008385\n",
       "Foundation     0.008043\n",
       "BsmtQual      -0.012693\n",
       "BsmtCond       0.004510\n",
       "BsmtExposure  -0.006515\n",
       "BsmtFinType1  -0.002718\n",
       "BsmtFinType2  -0.002715\n",
       "Heating        0.000000\n",
       "HeatingQC     -0.005857\n",
       "CentralAir     0.047803"
      ]
     },
     "execution_count": 125,
     "metadata": {},
     "output_type": "execute_result"
    }
   ],
   "source": [
    "#important predictor variables\n",
    "cols = pd.DataFrame(index=X_train.columns)\n",
    "cols.rows = X_train.columns\n",
    "cols['Lasso'] = lasso.coef_\n",
    "pd.set_option('display.max_rows', None)\n",
    "cols.head(50)"
   ]
  },
  {
   "cell_type": "code",
   "execution_count": null,
   "id": "400896e2",
   "metadata": {},
   "outputs": [],
   "source": []
  },
  {
   "cell_type": "code",
   "execution_count": null,
   "id": "c5ae328c",
   "metadata": {},
   "outputs": [],
   "source": []
  },
  {
   "cell_type": "markdown",
   "id": "3cc70dc6",
   "metadata": {},
   "source": [
    "# Q3"
   ]
  },
  {
   "cell_type": "code",
   "execution_count": 126,
   "id": "c5acc532",
   "metadata": {},
   "outputs": [],
   "source": [
    "#LotArea, BsmtFinSF1, MasVnrArea, BsmtFinSF2, 2ndFlrSF\n",
    "#Drop above 5 important variables from X_train, X_test"
   ]
  },
  {
   "cell_type": "code",
   "execution_count": 127,
   "id": "c4de48cf",
   "metadata": {},
   "outputs": [],
   "source": [
    "X_trainQ3 = X_train.drop(['LotArea','BsmtFinSF1','MasVnrArea','BsmtFinSF2','2ndFlrSF'],axis=1)\n",
    "X_testQ3 = X_test.drop(['LotArea','BsmtFinSF1','MasVnrArea','BsmtFinSF2','2ndFlrSF'],axis=1)"
   ]
  },
  {
   "cell_type": "code",
   "execution_count": 128,
   "id": "c5ca1e52",
   "metadata": {},
   "outputs": [
    {
     "data": {
      "text/plain": [
       "(1168, 74)"
      ]
     },
     "execution_count": 128,
     "metadata": {},
     "output_type": "execute_result"
    }
   ],
   "source": [
    "X_trainQ3.shape"
   ]
  },
  {
   "cell_type": "code",
   "execution_count": 129,
   "id": "618b688c",
   "metadata": {},
   "outputs": [],
   "source": [
    "#As per Q2, i preferred Lasso because of better results,\n",
    "#So here i use Lasso to predict after dropping 5 important variables"
   ]
  },
  {
   "cell_type": "code",
   "execution_count": 130,
   "id": "31b3aed0",
   "metadata": {},
   "outputs": [
    {
     "name": "stdout",
     "output_type": "stream",
     "text": [
      "Fitting 5 folds for each of 28 candidates, totalling 140 fits\n"
     ]
    },
    {
     "data": {
      "text/plain": [
       "GridSearchCV(cv=5, estimator=Lasso(),\n",
       "             param_grid={'alpha': [0.0001, 0.001, 0.01, 0.05, 0.1, 0.2, 0.3,\n",
       "                                   0.4, 0.5, 0.6, 0.7, 0.8, 0.9, 1.0, 2.0, 3.0,\n",
       "                                   4.0, 5.0, 6.0, 7.0, 8.0, 9.0, 10.0, 20, 50,\n",
       "                                   100, 500, 1000]},\n",
       "             return_train_score=True, scoring='neg_mean_absolute_error',\n",
       "             verbose=1)"
      ]
     },
     "execution_count": 130,
     "metadata": {},
     "output_type": "execute_result"
    }
   ],
   "source": [
    "\n",
    "params = {'alpha': [0.0001, 0.001, 0.01, 0.05, 0.1, \n",
    " 0.2, 0.3, 0.4, 0.5, 0.6, 0.7, 0.8, 0.9, 1.0, 2.0, 3.0, \n",
    " 4.0, 5.0, 6.0, 7.0, 8.0, 9.0, 10.0, 20, 50, 100, 500, 1000 ]}\n",
    "\n",
    "lasso = Lasso()\n",
    "\n",
    "folds = 5\n",
    "\n",
    "# cross validation\n",
    "model_cv = GridSearchCV(estimator = lasso, \n",
    "                        param_grid = params, \n",
    "                        scoring= 'neg_mean_absolute_error', \n",
    "                        cv = folds, \n",
    "                        return_train_score=True,\n",
    "                        verbose = 1)            \n",
    "\n",
    "model_cv.fit(X_trainQ3, y_train) "
   ]
  },
  {
   "cell_type": "code",
   "execution_count": 131,
   "id": "30e08e1c",
   "metadata": {},
   "outputs": [
    {
     "name": "stdout",
     "output_type": "stream",
     "text": [
      "Optimal value of Alpha is:  {'alpha': 0.001}\n"
     ]
    }
   ],
   "source": [
    "# Printing the best hyperparameter alpha\n",
    "print(\"Optimal value of Alpha is: \",model_cv.best_params_)"
   ]
  },
  {
   "cell_type": "code",
   "execution_count": 132,
   "id": "43d6dc80",
   "metadata": {},
   "outputs": [
    {
     "data": {
      "text/plain": [
       "Lasso(alpha=0.001)"
      ]
     },
     "execution_count": 132,
     "metadata": {},
     "output_type": "execute_result"
    }
   ],
   "source": [
    "alpha =0.001\n",
    "\n",
    "lasso1 = Lasso(alpha=alpha)\n",
    "        \n",
    "lasso1.fit(X_trainQ3, y_train) "
   ]
  },
  {
   "cell_type": "code",
   "execution_count": 133,
   "id": "3da160ea",
   "metadata": {},
   "outputs": [
    {
     "data": {
      "text/plain": [
       "array([-6.61081406e-05, -1.09005808e-03, -1.06736306e-03, -8.28268880e-05,\n",
       "        3.25623156e-04,  2.34214203e-05,  0.00000000e+00,  3.09969894e-04,\n",
       "       -6.17927264e-06,  2.50359582e-05,  9.22637558e-05,  3.65539697e-04,\n",
       "        0.00000000e+00,  0.00000000e+00,  0.00000000e+00,  0.00000000e+00,\n",
       "       -1.31137069e-02,  0.00000000e+00,  2.96871179e-02, -8.91171197e-03,\n",
       "        7.46673803e-03, -0.00000000e+00, -7.11440254e-04,  3.99653978e-02,\n",
       "        9.28697484e-04, -0.00000000e+00, -8.44299812e-03, -1.35454196e-02,\n",
       "       -9.42394240e-04,  5.66812740e-03,  2.03718763e-02,  0.00000000e+00,\n",
       "       -1.24513533e-03, -0.00000000e+00, -4.26033003e-03,  1.18523517e-02,\n",
       "        1.01745292e-02, -1.34435494e-02,  5.70075277e-03, -7.20962031e-03,\n",
       "       -5.84564524e-03,  9.74497880e-04,  0.00000000e+00, -5.16396744e-03,\n",
       "        7.10147516e-02,  1.03893962e-03, -2.02428449e-02,  1.69845152e-02,\n",
       "       -1.09472990e-02, -2.52180476e-03, -8.54668907e-03,  7.94458794e-03,\n",
       "        1.05282500e-03,  2.84714971e-02, -1.30787491e-01,  3.58019310e-03,\n",
       "       -2.81998344e-03,  0.00000000e+00,  1.81116464e-02, -2.30654438e-04,\n",
       "        6.77903184e-02,  4.04744129e-02,  4.15470796e-02,  0.00000000e+00,\n",
       "        2.82181928e-02,  3.41765390e-02, -0.00000000e+00, -4.51661997e-02,\n",
       "        2.33219696e-02,  3.81115605e-02,  4.52332561e-02, -6.54421603e-04,\n",
       "       -1.65615995e-03,  8.60385105e-03])"
      ]
     },
     "execution_count": 133,
     "metadata": {},
     "output_type": "execute_result"
    }
   ],
   "source": [
    "lasso1.coef_"
   ]
  },
  {
   "cell_type": "code",
   "execution_count": 134,
   "id": "f150da9f",
   "metadata": {},
   "outputs": [
    {
     "name": "stdout",
     "output_type": "stream",
     "text": [
      "R-Square value for Train dataset:  0.8896633448102482\n",
      "R-Square value for Test dataset:  0.86516527213917\n"
     ]
    }
   ],
   "source": [
    "y_pred_train = lasso1.predict(X_trainQ3)\n",
    "y_pred_test = lasso1.predict(X_testQ3)\n",
    "\n",
    "metric3 = []\n",
    "r2_train_lr = r2_score(y_train, y_pred_train)\n",
    "print(\"R-Square value for Train dataset: \",r2_train_lr)\n",
    "metric3.append(r2_train_lr)\n",
    "\n",
    "r2_test_lr = r2_score(y_test, y_pred_test)\n",
    "print(\"R-Square value for Test dataset: \",r2_test_lr)\n",
    "metric3.append(r2_test_lr)"
   ]
  },
  {
   "cell_type": "code",
   "execution_count": 135,
   "id": "1b3ea539",
   "metadata": {},
   "outputs": [],
   "source": [
    "# there is very slight change in Rsquare value"
   ]
  },
  {
   "cell_type": "code",
   "execution_count": 136,
   "id": "fd33dc7d",
   "metadata": {},
   "outputs": [
    {
     "data": {
      "text/html": [
       "<div>\n",
       "<style scoped>\n",
       "    .dataframe tbody tr th:only-of-type {\n",
       "        vertical-align: middle;\n",
       "    }\n",
       "\n",
       "    .dataframe tbody tr th {\n",
       "        vertical-align: top;\n",
       "    }\n",
       "\n",
       "    .dataframe thead th {\n",
       "        text-align: right;\n",
       "    }\n",
       "</style>\n",
       "<table border=\"1\" class=\"dataframe\">\n",
       "  <thead>\n",
       "    <tr style=\"text-align: right;\">\n",
       "      <th></th>\n",
       "      <th>Lasso</th>\n",
       "    </tr>\n",
       "  </thead>\n",
       "  <tbody>\n",
       "    <tr>\n",
       "      <th>LotFrontage</th>\n",
       "      <td>-0.000066</td>\n",
       "    </tr>\n",
       "    <tr>\n",
       "      <th>YearBuilt</th>\n",
       "      <td>-0.001090</td>\n",
       "    </tr>\n",
       "    <tr>\n",
       "      <th>YearRemodAdd</th>\n",
       "      <td>-0.001067</td>\n",
       "    </tr>\n",
       "    <tr>\n",
       "      <th>BsmtUnfSF</th>\n",
       "      <td>-0.000083</td>\n",
       "    </tr>\n",
       "    <tr>\n",
       "      <th>TotalBsmtSF</th>\n",
       "      <td>0.000326</td>\n",
       "    </tr>\n",
       "    <tr>\n",
       "      <th>1stFlrSF</th>\n",
       "      <td>0.000023</td>\n",
       "    </tr>\n",
       "    <tr>\n",
       "      <th>LowQualFinSF</th>\n",
       "      <td>0.000000</td>\n",
       "    </tr>\n",
       "    <tr>\n",
       "      <th>GrLivArea</th>\n",
       "      <td>0.000310</td>\n",
       "    </tr>\n",
       "    <tr>\n",
       "      <th>GarageYrBlt</th>\n",
       "      <td>-0.000006</td>\n",
       "    </tr>\n",
       "    <tr>\n",
       "      <th>GarageArea</th>\n",
       "      <td>0.000025</td>\n",
       "    </tr>\n",
       "    <tr>\n",
       "      <th>WoodDeckSF</th>\n",
       "      <td>0.000092</td>\n",
       "    </tr>\n",
       "    <tr>\n",
       "      <th>OpenPorchSF</th>\n",
       "      <td>0.000366</td>\n",
       "    </tr>\n",
       "    <tr>\n",
       "      <th>EnclosedPorch</th>\n",
       "      <td>0.000000</td>\n",
       "    </tr>\n",
       "    <tr>\n",
       "      <th>3SsnPorch</th>\n",
       "      <td>0.000000</td>\n",
       "    </tr>\n",
       "    <tr>\n",
       "      <th>ScreenPorch</th>\n",
       "      <td>0.000000</td>\n",
       "    </tr>\n",
       "    <tr>\n",
       "      <th>MiscVal</th>\n",
       "      <td>0.000000</td>\n",
       "    </tr>\n",
       "    <tr>\n",
       "      <th>MSZoning</th>\n",
       "      <td>-0.013114</td>\n",
       "    </tr>\n",
       "    <tr>\n",
       "      <th>Street</th>\n",
       "      <td>0.000000</td>\n",
       "    </tr>\n",
       "    <tr>\n",
       "      <th>Alley</th>\n",
       "      <td>0.029687</td>\n",
       "    </tr>\n",
       "    <tr>\n",
       "      <th>LotShape</th>\n",
       "      <td>-0.008912</td>\n",
       "    </tr>\n",
       "    <tr>\n",
       "      <th>LandContour</th>\n",
       "      <td>0.007467</td>\n",
       "    </tr>\n",
       "    <tr>\n",
       "      <th>Utilities</th>\n",
       "      <td>-0.000000</td>\n",
       "    </tr>\n",
       "    <tr>\n",
       "      <th>LotConfig</th>\n",
       "      <td>-0.000711</td>\n",
       "    </tr>\n",
       "    <tr>\n",
       "      <th>LandSlope</th>\n",
       "      <td>0.039965</td>\n",
       "    </tr>\n",
       "    <tr>\n",
       "      <th>Neighborhood</th>\n",
       "      <td>0.000929</td>\n",
       "    </tr>\n",
       "    <tr>\n",
       "      <th>Condition1</th>\n",
       "      <td>-0.000000</td>\n",
       "    </tr>\n",
       "    <tr>\n",
       "      <th>Condition2</th>\n",
       "      <td>-0.008443</td>\n",
       "    </tr>\n",
       "    <tr>\n",
       "      <th>BldgType</th>\n",
       "      <td>-0.013545</td>\n",
       "    </tr>\n",
       "    <tr>\n",
       "      <th>HouseStyle</th>\n",
       "      <td>-0.000942</td>\n",
       "    </tr>\n",
       "    <tr>\n",
       "      <th>RoofStyle</th>\n",
       "      <td>0.005668</td>\n",
       "    </tr>\n",
       "    <tr>\n",
       "      <th>RoofMatl</th>\n",
       "      <td>0.020372</td>\n",
       "    </tr>\n",
       "    <tr>\n",
       "      <th>Exterior1st</th>\n",
       "      <td>0.000000</td>\n",
       "    </tr>\n",
       "    <tr>\n",
       "      <th>Exterior2nd</th>\n",
       "      <td>-0.001245</td>\n",
       "    </tr>\n",
       "    <tr>\n",
       "      <th>MasVnrType</th>\n",
       "      <td>-0.000000</td>\n",
       "    </tr>\n",
       "    <tr>\n",
       "      <th>ExterQual</th>\n",
       "      <td>-0.004260</td>\n",
       "    </tr>\n",
       "    <tr>\n",
       "      <th>ExterCond</th>\n",
       "      <td>0.011852</td>\n",
       "    </tr>\n",
       "    <tr>\n",
       "      <th>Foundation</th>\n",
       "      <td>0.010175</td>\n",
       "    </tr>\n",
       "    <tr>\n",
       "      <th>BsmtQual</th>\n",
       "      <td>-0.013444</td>\n",
       "    </tr>\n",
       "    <tr>\n",
       "      <th>BsmtCond</th>\n",
       "      <td>0.005701</td>\n",
       "    </tr>\n",
       "    <tr>\n",
       "      <th>BsmtExposure</th>\n",
       "      <td>-0.007210</td>\n",
       "    </tr>\n",
       "    <tr>\n",
       "      <th>BsmtFinType1</th>\n",
       "      <td>-0.005846</td>\n",
       "    </tr>\n",
       "    <tr>\n",
       "      <th>BsmtFinType2</th>\n",
       "      <td>0.000974</td>\n",
       "    </tr>\n",
       "    <tr>\n",
       "      <th>Heating</th>\n",
       "      <td>0.000000</td>\n",
       "    </tr>\n",
       "    <tr>\n",
       "      <th>HeatingQC</th>\n",
       "      <td>-0.005164</td>\n",
       "    </tr>\n",
       "    <tr>\n",
       "      <th>CentralAir</th>\n",
       "      <td>0.071015</td>\n",
       "    </tr>\n",
       "    <tr>\n",
       "      <th>Electrical</th>\n",
       "      <td>0.001039</td>\n",
       "    </tr>\n",
       "    <tr>\n",
       "      <th>KitchenQual</th>\n",
       "      <td>-0.020243</td>\n",
       "    </tr>\n",
       "    <tr>\n",
       "      <th>Functional</th>\n",
       "      <td>0.016985</td>\n",
       "    </tr>\n",
       "    <tr>\n",
       "      <th>FireplaceQu</th>\n",
       "      <td>-0.010947</td>\n",
       "    </tr>\n",
       "    <tr>\n",
       "      <th>GarageType</th>\n",
       "      <td>-0.002522</td>\n",
       "    </tr>\n",
       "  </tbody>\n",
       "</table>\n",
       "</div>"
      ],
      "text/plain": [
       "                  Lasso\n",
       "LotFrontage   -0.000066\n",
       "YearBuilt     -0.001090\n",
       "YearRemodAdd  -0.001067\n",
       "BsmtUnfSF     -0.000083\n",
       "TotalBsmtSF    0.000326\n",
       "1stFlrSF       0.000023\n",
       "LowQualFinSF   0.000000\n",
       "GrLivArea      0.000310\n",
       "GarageYrBlt   -0.000006\n",
       "GarageArea     0.000025\n",
       "WoodDeckSF     0.000092\n",
       "OpenPorchSF    0.000366\n",
       "EnclosedPorch  0.000000\n",
       "3SsnPorch      0.000000\n",
       "ScreenPorch    0.000000\n",
       "MiscVal        0.000000\n",
       "MSZoning      -0.013114\n",
       "Street         0.000000\n",
       "Alley          0.029687\n",
       "LotShape      -0.008912\n",
       "LandContour    0.007467\n",
       "Utilities     -0.000000\n",
       "LotConfig     -0.000711\n",
       "LandSlope      0.039965\n",
       "Neighborhood   0.000929\n",
       "Condition1    -0.000000\n",
       "Condition2    -0.008443\n",
       "BldgType      -0.013545\n",
       "HouseStyle    -0.000942\n",
       "RoofStyle      0.005668\n",
       "RoofMatl       0.020372\n",
       "Exterior1st    0.000000\n",
       "Exterior2nd   -0.001245\n",
       "MasVnrType    -0.000000\n",
       "ExterQual     -0.004260\n",
       "ExterCond      0.011852\n",
       "Foundation     0.010175\n",
       "BsmtQual      -0.013444\n",
       "BsmtCond       0.005701\n",
       "BsmtExposure  -0.007210\n",
       "BsmtFinType1  -0.005846\n",
       "BsmtFinType2   0.000974\n",
       "Heating        0.000000\n",
       "HeatingQC     -0.005164\n",
       "CentralAir     0.071015\n",
       "Electrical     0.001039\n",
       "KitchenQual   -0.020243\n",
       "Functional     0.016985\n",
       "FireplaceQu   -0.010947\n",
       "GarageType    -0.002522"
      ]
     },
     "execution_count": 136,
     "metadata": {},
     "output_type": "execute_result"
    }
   ],
   "source": [
    "#important predictor variables\n",
    "cols = pd.DataFrame(index=X_trainQ3.columns)\n",
    "cols.rows = X_train.columns\n",
    "cols['Lasso'] = lasso1.coef_\n",
    "pd.set_option('display.max_rows', None)\n",
    "cols.head(50)"
   ]
  },
  {
   "cell_type": "markdown",
   "id": "55d77460",
   "metadata": {},
   "source": [
    "# End"
   ]
  },
  {
   "cell_type": "code",
   "execution_count": null,
   "id": "d05c8b7b",
   "metadata": {},
   "outputs": [],
   "source": []
  }
 ],
 "metadata": {
  "kernelspec": {
   "display_name": "Python 3 (ipykernel)",
   "language": "python",
   "name": "python3"
  },
  "language_info": {
   "codemirror_mode": {
    "name": "ipython",
    "version": 3
   },
   "file_extension": ".py",
   "mimetype": "text/x-python",
   "name": "python",
   "nbconvert_exporter": "python",
   "pygments_lexer": "ipython3",
   "version": "3.9.7"
  }
 },
 "nbformat": 4,
 "nbformat_minor": 5
}
